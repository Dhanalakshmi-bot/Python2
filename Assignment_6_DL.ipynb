{
  "nbformat": 4,
  "nbformat_minor": 0,
  "metadata": {
    "colab": {
      "name": "Assignment 6.ipynb",
      "provenance": [],
      "collapsed_sections": []
    },
    "kernelspec": {
      "display_name": "Python 3",
      "language": "python",
      "name": "python3"
    },
    "language_info": {
      "codemirror_mode": {
        "name": "ipython",
        "version": 3
      },
      "file_extension": ".py",
      "mimetype": "text/x-python",
      "name": "python",
      "nbconvert_exporter": "python",
      "pygments_lexer": "ipython3",
      "version": "3.7.6"
    }
  },
  "cells": [
    {
      "cell_type": "markdown",
      "metadata": {
        "id": "kkb8ko8fAO4z"
      },
      "source": [
        "#Python Assessment Test"
      ]
    },
    {
      "cell_type": "markdown",
      "metadata": {
        "id": "d4iQYYo7AtJ9"
      },
      "source": [
        "**Question 1. For the full answers, review the notebook introductions of each topic!. Describe the following object type data                stuctures\n",
        "1. Numbers\n",
        "2. Strings\n",
        "3. List\n",
        "4. Tuples\n",
        "5. Dictionaries\n",
        "\n",
        "Use text cells to write your answers."
      ]
    },
    {
      "cell_type": "markdown",
      "metadata": {
        "id": "_PVjP5Cwt1tU"
      },
      "source": [
        "\n",
        "1.   int\n",
        "2.   str\n",
        "3.   []\n",
        "4.   ()\n",
        "5.   dict\n",
        "\n"
      ]
    },
    {
      "cell_type": "markdown",
      "metadata": {
        "id": "QsiD6IhuE-h1"
      },
      "source": [
        "**Question 2. Given the string 'Rameshwaram' give an index command that returns 'shwar'. Enter your code in the cell below:**"
      ]
    },
    {
      "cell_type": "code",
      "metadata": {
        "id": "EHEAMfaOFwUL",
        "colab": {
          "base_uri": "https://localhost:8080/"
        },
        "outputId": "7be271ad-d7a1-49c3-82aa-2ec6ed6db75e"
      },
      "source": [
        "s='Rameshwaram'\n",
        "# Print out 'shwar' using indexing. \n",
        "text= s[4:9]\n",
        "print(text)"
      ],
      "execution_count": null,
      "outputs": [
        {
          "output_type": "stream",
          "text": [
            "shwar\n"
          ],
          "name": "stdout"
        }
      ]
    },
    {
      "cell_type": "markdown",
      "metadata": {
        "id": "PFMxpBFZF7VX"
      },
      "source": [
        "**Question 3. Guess the output of  print(0.1+0.2==0.3), without running a code and write your answer in the text cell given below (shown below as Double-click (or enter) to edit). Use # before your answer to write in bold letters.**"
      ]
    },
    {
      "cell_type": "markdown",
      "metadata": {
        "id": "UzI1mAUDI-dq"
      },
      "source": [
        "# guessed answer= true\n",
        "\n"
      ]
    },
    {
      "cell_type": "markdown",
      "metadata": {
        "id": "aCa7SmjqJAiL"
      },
      "source": [
        "**Question 4. Now run print(0.1+0.2==0.3) in the code cell. Check the result and compare with your guessed answer.\\\n",
        "Explain the output. You can use internet to search the answer.**"
      ]
    },
    {
      "cell_type": "code",
      "metadata": {
        "id": "cXcBHTZALEti",
        "colab": {
          "base_uri": "https://localhost:8080/"
        },
        "outputId": "18ae501d-90af-47b6-b425-5ce9617bff2f"
      },
      "source": [
        "print(0.1+0.2==0.3)\n",
        "\n",
        "#Because here we using float points. \n",
        "#These float pints are of approximate value not the exact value.\n",
        "#Float value depends on the interpretor/compiler depending on the language. \n",
        "#Since when we add 0.1+0.2 it becomes 0.30000000000000004 due to python interpreter\n",
        "#If we give 0.1+0.2==0.30000000000000004 then it gives true\n",
        "\n",
        "0.1+0.2\n",
        "\n",
        "print(0.1+0.2==0.30000000000000004) # here we can see"
      ],
      "execution_count": null,
      "outputs": [
        {
          "output_type": "stream",
          "text": [
            "False\n",
            "True\n"
          ],
          "name": "stdout"
        }
      ]
    },
    {
      "cell_type": "markdown",
      "metadata": {
        "id": "_oaDKmBYK7vJ"
      },
      "source": [
        "**Question 5. Print a complex number 2+5i in three different ways.**"
      ]
    },
    {
      "cell_type": "code",
      "metadata": {
        "id": "gW3_kVjSLY-_",
        "colab": {
          "base_uri": "https://localhost:8080/"
        },
        "outputId": "f7bac824-6118-492d-efd4-d4cf05d92ff0"
      },
      "source": [
        "x= 2\n",
        "y= 5\n",
        "\n",
        "z= complex (x,y)\n",
        "print(z)"
      ],
      "execution_count": null,
      "outputs": [
        {
          "output_type": "stream",
          "text": [
            "(2+5j)\n"
          ],
          "name": "stdout"
        }
      ]
    },
    {
      "cell_type": "code",
      "metadata": {
        "id": "XU3dxBxDLaf5",
        "colab": {
          "base_uri": "https://localhost:8080/"
        },
        "outputId": "8b9644ad-10c4-4e69-c69e-22b05c327793"
      },
      "source": [
        "import cmath\n",
        "a=2\n",
        "b=5\n",
        "c= complex (a,b)\n",
        "\n",
        "print(c)"
      ],
      "execution_count": null,
      "outputs": [
        {
          "output_type": "stream",
          "text": [
            "(2+5j)\n"
          ],
          "name": "stdout"
        }
      ]
    },
    {
      "cell_type": "code",
      "metadata": {
        "id": "Dk38Zfm4MwFl",
        "colab": {
          "base_uri": "https://localhost:8080/"
        },
        "outputId": "8b654f00-726f-4d87-ad07-188dd2a88293"
      },
      "source": [
        "print(complex (2,5))"
      ],
      "execution_count": null,
      "outputs": [
        {
          "output_type": "stream",
          "text": [
            "(2+5j)\n"
          ],
          "name": "stdout"
        }
      ]
    },
    {
      "cell_type": "markdown",
      "metadata": {
        "id": "O9MH7n_ENPya"
      },
      "source": [
        "**Question 6. Run the following code and explain the outcome**"
      ]
    },
    {
      "cell_type": "code",
      "metadata": {
        "id": "DOo5Ii2bNoqK",
        "colab": {
          "base_uri": "https://localhost:8080/",
          "height": 206
        },
        "outputId": "3575cc87-ea3e-4b7c-8eb0-dd640f8ec65f"
      },
      "source": [
        "#Here intex number starts with 0,1,2.... and so on. Here s[1] should be e . \n",
        "#The outcome we got the type error because 'str' object does not support item assignment\n",
        "#To get right output we should define s[1]= 'e' or s[0]= 'W'(it should be in capital letter not small)\n",
        "\n",
        "s='Welcome'\n",
        "s[1]='w'"
      ],
      "execution_count": null,
      "outputs": [
        {
          "output_type": "error",
          "ename": "TypeError",
          "evalue": "ignored",
          "traceback": [
            "\u001b[0;31m---------------------------------------------------------------------------\u001b[0m",
            "\u001b[0;31mTypeError\u001b[0m                                 Traceback (most recent call last)",
            "\u001b[0;32m<ipython-input-23-0e45f97064b2>\u001b[0m in \u001b[0;36m<module>\u001b[0;34m()\u001b[0m\n\u001b[1;32m      1\u001b[0m \u001b[0;31m#Explain the outcome of the following code\u001b[0m\u001b[0;34m\u001b[0m\u001b[0;34m\u001b[0m\u001b[0;34m\u001b[0m\u001b[0m\n\u001b[1;32m      2\u001b[0m \u001b[0ms\u001b[0m\u001b[0;34m=\u001b[0m\u001b[0;34m'Welcome'\u001b[0m\u001b[0;34m\u001b[0m\u001b[0;34m\u001b[0m\u001b[0m\n\u001b[0;32m----> 3\u001b[0;31m \u001b[0ms\u001b[0m\u001b[0;34m[\u001b[0m\u001b[0;36m1\u001b[0m\u001b[0;34m]\u001b[0m\u001b[0;34m=\u001b[0m\u001b[0;34m'w'\u001b[0m\u001b[0;34m\u001b[0m\u001b[0;34m\u001b[0m\u001b[0m\n\u001b[0m",
            "\u001b[0;31mTypeError\u001b[0m: 'str' object does not support item assignment"
          ]
        }
      ]
    },
    {
      "cell_type": "markdown",
      "metadata": {
        "id": "YvDXGou6NtpO"
      },
      "source": [
        "**Question 7. Reassign 'hello' in this nested list to say 'goodbye' instead:**"
      ]
    },
    {
      "cell_type": "code",
      "metadata": {
        "id": "6qYYTtdKOuXE",
        "colab": {
          "base_uri": "https://localhost:8080/"
        },
        "outputId": "bc33c914-f644-41a6-f0e0-5158feaac3a7"
      },
      "source": [
        "list1 = [1,2,[3,4,'hello']]\n",
        "l2= list1[2]\n",
        "l2[-1]= \"goodbye\"\n",
        "print(list1)"
      ],
      "execution_count": null,
      "outputs": [
        {
          "output_type": "stream",
          "text": [
            "[1, 2, [3, 4, 'goodbye']]\n"
          ],
          "name": "stdout"
        }
      ]
    },
    {
      "cell_type": "markdown",
      "metadata": {
        "id": "pfGcGXxLO1Gr"
      },
      "source": [
        "**Question 8. Using keys and indexing, grab the 'hello' from the following dictionary:**"
      ]
    },
    {
      "cell_type": "code",
      "metadata": {
        "id": "veuMZdOwPOop",
        "colab": {
          "base_uri": "https://localhost:8080/"
        },
        "outputId": "e8175460-b26d-4342-a886-734c212c2628"
      },
      "source": [
        "d = {'k1':[1,2,{'k2':['this is tricky',{'tough':[1,2,['hello']]}]}]}\n",
        "print (d['k1'][2]['k2'][1]['tough'][2])"
      ],
      "execution_count": null,
      "outputs": [
        {
          "output_type": "stream",
          "text": [
            "['hello']\n"
          ],
          "name": "stdout"
        }
      ]
    },
    {
      "cell_type": "markdown",
      "metadata": {
        "id": "TaujBNukPdU_"
      },
      "source": [
        "**Question 9. Can you sort a dictionary? Why or why not?**"
      ]
    },
    {
      "cell_type": "code",
      "metadata": {
        "id": "lUZp0nrtPn92"
      },
      "source": [
        "# It is not possible to sort a dictionary, only to get a representation of a dictionary that is sorted. \n",
        "#Dictionaries are inherently orderless, but other types, such as lists and tuples, are not. \n",
        "#So you need an ordered data type to represent sorted values, which will be a list—probably a list of tuples."
      ],
      "execution_count": null,
      "outputs": []
    },
    {
      "cell_type": "markdown",
      "metadata": {
        "id": "n86dmHIBQmal"
      },
      "source": [
        "**Question 10. Use a one line code to find the unique values of the list below**"
      ]
    },
    {
      "cell_type": "code",
      "metadata": {
        "id": "ubq7cSabQx7J",
        "colab": {
          "base_uri": "https://localhost:8080/"
        },
        "outputId": "c74b5d17-a0aa-4799-d557-d051d2a3c4fd"
      },
      "source": [
        "list2 = [1,2,2,33,4,4,11,22,3,3,2]\n",
        "unique_list= list(set(list2))\n",
        "print(unique_list)"
      ],
      "execution_count": null,
      "outputs": [
        {
          "output_type": "stream",
          "text": [
            "[1, 2, 33, 4, 3, 11, 22]\n"
          ],
          "name": "stdout"
        }
      ]
    },
    {
      "cell_type": "markdown",
      "metadata": {
        "id": "ylY17srmR0VC"
      },
      "source": [
        "**Question 11. Use for, .split(), and if to create a Statement that will print out words that start with 's':**"
      ]
    },
    {
      "cell_type": "code",
      "metadata": {
        "id": "A5l_b4wKSBN0",
        "colab": {
          "base_uri": "https://localhost:8080/"
        },
        "outputId": "cdf378b1-d2d8-4b79-cfe1-25733e483a21"
      },
      "source": [
        "s = 'Print only the words that start with s in this sentence'\n",
        "res = [s for s in s.split() if s[0] == 's']\n",
        "print(res)"
      ],
      "execution_count": null,
      "outputs": [
        {
          "output_type": "stream",
          "text": [
            "['start', 's', 'sentence']\n"
          ],
          "name": "stdout"
        }
      ]
    },
    {
      "cell_type": "markdown",
      "metadata": {
        "id": "4ICVPrpPTNvV"
      },
      "source": [
        "**Question 12. Use range() to print all the even numbers from 0 to 50.**"
      ]
    },
    {
      "cell_type": "code",
      "metadata": {
        "id": "7eKu7sNkTKXU",
        "colab": {
          "base_uri": "https://localhost:8080/"
        },
        "outputId": "2d8aee46-e6d3-4731-c943-05fdd34fc4cc"
      },
      "source": [
        "list1 = [num for num in range(0,50) if num%2 == 0]\n",
        "\n",
        "print('even ', list1)\n"
      ],
      "execution_count": null,
      "outputs": [
        {
          "output_type": "stream",
          "text": [
            "even  [0, 2, 4, 6, 8, 10, 12, 14, 16, 18, 20, 22, 24, 26, 28, 30, 32, 34, 36, 38, 40, 42, 44, 46, 48]\n"
          ],
          "name": "stdout"
        }
      ]
    },
    {
      "cell_type": "markdown",
      "metadata": {
        "id": "HxTt5f1ETZJE"
      },
      "source": [
        "**Question 13. Use List comprehension to create a list of all numbers between 1 and 50 that are divisible by 4.**"
      ]
    },
    {
      "cell_type": "code",
      "metadata": {
        "id": "YtMp9_c8TYNt",
        "colab": {
          "base_uri": "https://localhost:8080/"
        },
        "outputId": "047fec18-92bd-4fab-f0c8-4b9ebf4ea264"
      },
      "source": [
        "list2 = [num for num in range(1,50) if num%4 == 0]\n",
        "print(list2)\n"
      ],
      "execution_count": null,
      "outputs": [
        {
          "output_type": "stream",
          "text": [
            "[4, 8, 12, 16, 20, 24, 28, 32, 36, 40, 44, 48]\n"
          ],
          "name": "stdout"
        }
      ]
    },
    {
      "cell_type": "markdown",
      "metadata": {
        "id": "gFSVX2ufUKBN"
      },
      "source": [
        "**Question 14. Go through the string below and if the length of a word is even print \"even!\"**"
      ]
    },
    {
      "cell_type": "code",
      "metadata": {
        "id": "eO6LD39yToAu",
        "colab": {
          "base_uri": "https://localhost:8080/"
        },
        "outputId": "8f9300f3-f1d4-4772-a06f-f8c649f2c691"
      },
      "source": [
        "\n",
        "\n",
        "def p_word(s):\n",
        "  s=s.split()\n",
        "  for word in s:\n",
        "    if len(word)%2==0:\n",
        "     print('even', word)\n",
        "s = 'Print every word in this sentence that has an even number of letters'\n",
        "p_word(s)\n",
        "  "
      ],
      "execution_count": null,
      "outputs": [
        {
          "output_type": "stream",
          "text": [
            "even word\n",
            "even in\n",
            "even this\n",
            "even sentence\n",
            "even that\n",
            "even an\n",
            "even even\n",
            "even number\n",
            "even of\n"
          ],
          "name": "stdout"
        }
      ]
    },
    {
      "cell_type": "markdown",
      "metadata": {
        "id": "FyuupCI9WLwx"
      },
      "source": [
        "**Question 15. Write a Python function to check whether a string is pangram or not. (Assume the string passed in does not have any punctuation)**\n",
        "\n",
        "    Note : Pangrams are words or sentences containing every letter of the alphabet at least once.\n",
        "    For example : \"The quick brown fox jumps over the lazy dog\"\n",
        "\n",
        "Hint: You may want to use .replace() method to get rid of spaces.\n",
        "\n",
        "Hint: Look at the [string module](https://stackoverflow.com/questions/16060899/alphabet-range-in-python)\n",
        "\n",
        "Hint: In case you want to use [set comparisons](https://medium.com/better-programming/a-visual-guide-to-set-comparisons-in-python-6ab7edb9ec41)"
      ]
    },
    {
      "cell_type": "code",
      "metadata": {
        "colab": {
          "base_uri": "https://localhost:8080/",
          "height": 35
        },
        "id": "ZFZMA0BqW35h",
        "outputId": "17a8c18d-7e48-4a74-e443-1397edbc5d49"
      },
      "source": [
        "import string\n",
        "string.ascii_lowercase #Check the output of this line of code"
      ],
      "execution_count": null,
      "outputs": [
        {
          "output_type": "execute_result",
          "data": {
            "application/vnd.google.colaboratory.intrinsic+json": {
              "type": "string"
            },
            "text/plain": [
              "'abcdefghijklmnopqrstuvwxyz'"
            ]
          },
          "metadata": {
            "tags": []
          },
          "execution_count": 108
        }
      ]
    },
    {
      "cell_type": "code",
      "metadata": {
        "id": "sozlvYNlWUZN"
      },
      "source": [
        "def ispangram(str1, alphabet=string.ascii_lowercase):\n",
        "  alphaset= set (alphabet)\n",
        "  return alphaset <= set (str1.lower())\n",
        " \n",
        "\n",
        "\n",
        "    \n",
        "\n"
      ],
      "execution_count": null,
      "outputs": []
    },
    {
      "cell_type": "code",
      "metadata": {
        "id": "-GlLR1n7Wowx",
        "colab": {
          "base_uri": "https://localhost:8080/"
        },
        "outputId": "d73be04b-3bcd-41b4-b2f1-08206e3bf5cb"
      },
      "source": [
        "ispangram(\"The quick brown fox jumps over the lazy dog\")"
      ],
      "execution_count": null,
      "outputs": [
        {
          "output_type": "execute_result",
          "data": {
            "text/plain": [
              "True"
            ]
          },
          "metadata": {
            "tags": []
          },
          "execution_count": 114
        }
      ]
    },
    {
      "cell_type": "markdown",
      "metadata": {
        "id": "ONZhLpcbXoqa"
      },
      "source": [
        "**Question 16.** **Object Oriented Programming Challenge**\n",
        "\n",
        "For this challenge, create a bank account class that has two attributes:\n",
        "\n",
        "* owner\n",
        "* balance\n",
        "\n",
        "and two methods:\n",
        "\n",
        "* deposit\n",
        "* withdraw\n",
        "\n",
        "As an added requirement, withdrawals may not exceed the available balance.\n",
        "\n",
        "Instantiate your class, make several deposits and withdrawals, and test to make sure the account can't be overdrawn."
      ]
    },
    {
      "cell_type": "code",
      "metadata": {
        "id": "UgAFs8j5XpTF"
      },
      "source": [
        "class Account():\n",
        "  def __init__(self, owner, balance=0):\n",
        "     self.owner= owner\n",
        "     self.balance= balance\n",
        "\n",
        "  def __str__(self):\n",
        "    return ('Account owner: {} \\nAccount balance: {}'.format(self.owner, self.balance))\n",
        "\n",
        "  def deposit (self, deposit_amt):\n",
        "    self.balance= self.balance+ deposit_amt\n",
        "    print('Deposit accepted'.format(self.balance))\n",
        "   \n",
        "\n",
        "  def withdraw (self, withdraw_amt):\n",
        "    \n",
        "    if withdraw_amt>self.balance:\n",
        "      print('Funds unavailable'.format(self.balance))\n",
        "    else:\n",
        "      self.balance= self.balance- withdraw_amt\n",
        "      print('Withdrawal accepted'.format(self.balance))\n",
        "\n",
        "\n",
        "\n",
        "\n",
        "\n"
      ],
      "execution_count": 44,
      "outputs": []
    },
    {
      "cell_type": "code",
      "metadata": {
        "id": "23NemEWdX7Ox"
      },
      "source": [
        "# 1. Instantiate the class\n",
        "acct1 = Account('Prepleaf',1000)"
      ],
      "execution_count": 45,
      "outputs": []
    },
    {
      "cell_type": "code",
      "metadata": {
        "id": "oiXA054vYAX8",
        "colab": {
          "base_uri": "https://localhost:8080/"
        },
        "outputId": "f91295aa-cd51-4598-eb91-9385c5ee8b22"
      },
      "source": [
        "# 2. Print the object\n",
        "print(acct1)\n",
        "\n",
        "# output:\n",
        "#Account owner:   Prepleaf\n",
        "#Account balance: $1000"
      ],
      "execution_count": 46,
      "outputs": [
        {
          "output_type": "stream",
          "text": [
            "Account owner: Prepleaf \n",
            "Account balance: 1000\n"
          ],
          "name": "stdout"
        }
      ]
    },
    {
      "cell_type": "code",
      "metadata": {
        "id": "OK5xj90MYGYe",
        "colab": {
          "base_uri": "https://localhost:8080/",
          "height": 35
        },
        "outputId": "a76f1211-ebca-4c7d-cd84-86aadec5230d"
      },
      "source": [
        "# 3. Show the account owner attribute\n",
        "acct1.owner\n",
        "#output:\n",
        "#'Prepleaf'"
      ],
      "execution_count": 47,
      "outputs": [
        {
          "output_type": "execute_result",
          "data": {
            "application/vnd.google.colaboratory.intrinsic+json": {
              "type": "string"
            },
            "text/plain": [
              "'Prepleaf'"
            ]
          },
          "metadata": {
            "tags": []
          },
          "execution_count": 47
        }
      ]
    },
    {
      "cell_type": "code",
      "metadata": {
        "id": "3vvQkNypYmRU",
        "colab": {
          "base_uri": "https://localhost:8080/"
        },
        "outputId": "deceb87f-324a-4d38-889f-f0a84a7fc9b4"
      },
      "source": [
        "# 4. Show the account balance attribute\n",
        "acct1.balance\n",
        "#output:\n",
        "#1000"
      ],
      "execution_count": 48,
      "outputs": [
        {
          "output_type": "execute_result",
          "data": {
            "text/plain": [
              "1000"
            ]
          },
          "metadata": {
            "tags": []
          },
          "execution_count": 48
        }
      ]
    },
    {
      "cell_type": "code",
      "metadata": {
        "id": "71696TI5Yu4h",
        "colab": {
          "base_uri": "https://localhost:8080/"
        },
        "outputId": "0b28483e-7f11-41c5-d487-331a80ae40f3"
      },
      "source": [
        "# 5. Make a series of deposits and withdrawals\n",
        "acct1.deposit(50)\n",
        "#output:\n",
        "#Deposit Accepted"
      ],
      "execution_count": 49,
      "outputs": [
        {
          "output_type": "stream",
          "text": [
            "Deposit accepted\n"
          ],
          "name": "stdout"
        }
      ]
    },
    {
      "cell_type": "code",
      "metadata": {
        "id": "pzhFWs2tY8M4",
        "colab": {
          "base_uri": "https://localhost:8080/"
        },
        "outputId": "ed9f6adf-2d67-4342-cb5d-e456eb4494c2"
      },
      "source": [
        "acct1.withdraw(75)\n",
        "#output:\n",
        "#Withdrawal Accepted"
      ],
      "execution_count": 50,
      "outputs": [
        {
          "output_type": "stream",
          "text": [
            "Withdrawal accepted\n"
          ],
          "name": "stdout"
        }
      ]
    },
    {
      "cell_type": "code",
      "metadata": {
        "collapsed": true,
        "id": "yA-8Y6cOZEnj",
        "colab": {
          "base_uri": "https://localhost:8080/"
        },
        "outputId": "5a83eb71-5164-47a7-b720-6ac81623450d"
      },
      "source": [
        "# 6. Make a withdrawal that exceeds the available balance\n",
        "acct1.withdraw(1500)\n",
        "#output:\n",
        "#Funds Unavailable!"
      ],
      "execution_count": 51,
      "outputs": [
        {
          "output_type": "stream",
          "text": [
            "Funds unavailable\n"
          ],
          "name": "stdout"
        }
      ]
    },
    {
      "cell_type": "markdown",
      "metadata": {
        "id": "-PFTt2tyJKCc"
      },
      "source": [
        "Question 17.  combine given two series to form a dataframe with columns names as col1, col2 and print the first five rows.\n",
        "\n"
      ]
    },
    {
      "cell_type": "code",
      "metadata": {
        "id": "XKPf2GIUJKCc",
        "colab": {
          "base_uri": "https://localhost:8080/"
        },
        "outputId": "aacc0ad5-8a23-4137-f06c-eda5ed4b3431"
      },
      "source": [
        "import pandas as pd\n",
        "import numpy as np\n",
        "ser1 = pd.Series(list('abcedfghijklmnopqrstuvwxyz'))\n",
        "ser2 = pd.Series(np.arange(26))\n",
        "\n",
        "df= pd.concat([ser1,ser2])\n",
        "\n",
        "\n",
        "df= pd.DataFrame({'col1': ser1, 'col2': ser2})\n",
        "print(df.head())\n",
        "\n"
      ],
      "execution_count": 19,
      "outputs": [
        {
          "output_type": "stream",
          "text": [
            "  col1  col2\n",
            "0    a     0\n",
            "1    b     1\n",
            "2    c     2\n",
            "3    e     3\n",
            "4    d     4\n"
          ],
          "name": "stdout"
        }
      ]
    },
    {
      "cell_type": "markdown",
      "metadata": {
        "id": "lV-2bLOvJOGq"
      },
      "source": [
        "Question 18. Given the data. Which manufacturer, model and type has the highest Price?"
      ]
    },
    {
      "cell_type": "code",
      "metadata": {
        "id": "RYEOEp7XJKCd",
        "colab": {
          "base_uri": "https://localhost:8080/",
          "height": 207
        },
        "outputId": "d9055b3a-b08a-46b5-dbb3-d886e7b5fb50"
      },
      "source": [
        " df = pd.read_csv('https://raw.githubusercontent.com/selva86/datasets/master/Cars93_miss.csv')\n",
        " print(df.columns)\n",
        " df.loc[df.Price==np.max(df.Price), ['Manufacturer', 'Model', 'Type']]"
      ],
      "execution_count": 28,
      "outputs": [
        {
          "output_type": "stream",
          "text": [
            "Index(['Manufacturer', 'Model', 'Type', 'Min.Price', 'Price', 'Max.Price',\n",
            "       'MPG.city', 'MPG.highway', 'AirBags', 'DriveTrain', 'Cylinders',\n",
            "       'EngineSize', 'Horsepower', 'RPM', 'Rev.per.mile', 'Man.trans.avail',\n",
            "       'Fuel.tank.capacity', 'Passengers', 'Length', 'Wheelbase', 'Width',\n",
            "       'Turn.circle', 'Rear.seat.room', 'Luggage.room', 'Weight', 'Origin',\n",
            "       'Make'],\n",
            "      dtype='object')\n"
          ],
          "name": "stdout"
        },
        {
          "output_type": "execute_result",
          "data": {
            "text/html": [
              "<div>\n",
              "<style scoped>\n",
              "    .dataframe tbody tr th:only-of-type {\n",
              "        vertical-align: middle;\n",
              "    }\n",
              "\n",
              "    .dataframe tbody tr th {\n",
              "        vertical-align: top;\n",
              "    }\n",
              "\n",
              "    .dataframe thead th {\n",
              "        text-align: right;\n",
              "    }\n",
              "</style>\n",
              "<table border=\"1\" class=\"dataframe\">\n",
              "  <thead>\n",
              "    <tr style=\"text-align: right;\">\n",
              "      <th></th>\n",
              "      <th>Manufacturer</th>\n",
              "      <th>Model</th>\n",
              "      <th>Type</th>\n",
              "    </tr>\n",
              "  </thead>\n",
              "  <tbody>\n",
              "    <tr>\n",
              "      <th>58</th>\n",
              "      <td>Mercedes-Benz</td>\n",
              "      <td>300E</td>\n",
              "      <td>Midsize</td>\n",
              "    </tr>\n",
              "  </tbody>\n",
              "</table>\n",
              "</div>"
            ],
            "text/plain": [
              "     Manufacturer Model     Type\n",
              "58  Mercedes-Benz  300E  Midsize"
            ]
          },
          "metadata": {
            "tags": []
          },
          "execution_count": 28
        }
      ]
    },
    {
      "cell_type": "markdown",
      "metadata": {
        "id": "8Qvygcr5JR85"
      },
      "source": [
        "Question 19. What is the row and column number of the cell with the highest Price value?"
      ]
    },
    {
      "cell_type": "code",
      "metadata": {
        "colab": {
          "base_uri": "https://localhost:8080/"
        },
        "id": "oT-TL1malQ5h",
        "outputId": "46882275-c6c6-4266-e5cc-a6a7546f7825"
      },
      "source": [
        "row, col = np.where (df.values==np.max(df.Price))\n",
        "print(row, col)"
      ],
      "execution_count": 39,
      "outputs": [
        {
          "output_type": "stream",
          "text": [
            "[58] [4]\n"
          ],
          "name": "stdout"
        }
      ]
    },
    {
      "cell_type": "markdown",
      "metadata": {
        "id": "eMgH_YF2JV3H"
      },
      "source": [
        "Question 20. Run this code. If you get an error. Use exceptional handling to print as \"An error occurred\" when error occurs."
      ]
    },
    {
      "cell_type": "code",
      "metadata": {
        "id": "QfvU9ktLJKCe",
        "colab": {
          "base_uri": "https://localhost:8080/"
        },
        "outputId": "a654c2a3-0542-4277-a0d1-b49b2f9c8770"
      },
      "source": [
        "list = [1,2,3,4]\n",
        "try:\n",
        " for i in range(5):\n",
        "    print(list[i])\n",
        "except:\n",
        "  print(\"An exception occurred\")"
      ],
      "execution_count": null,
      "outputs": [
        {
          "output_type": "stream",
          "text": [
            "1\n",
            "2\n",
            "3\n",
            "4\n",
            "An exception occurred\n"
          ],
          "name": "stdout"
        }
      ]
    },
    {
      "cell_type": "code",
      "metadata": {
        "id": "LFFssLpQJKCe"
      },
      "source": [
        ""
      ],
      "execution_count": null,
      "outputs": []
    }
  ]
}