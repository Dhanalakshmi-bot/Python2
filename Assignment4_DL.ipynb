{
  "nbformat": 4,
  "nbformat_minor": 0,
  "metadata": {
    "colab": {
      "name": "Assignment4_.ipynb",
      "provenance": []
    },
    "kernelspec": {
      "name": "python3",
      "display_name": "Python 3"
    }
  },
  "cells": [
    {
      "cell_type": "markdown",
      "metadata": {
        "id": "RntJ6pkM7-Sn"
      },
      "source": [
        "Q. A school has following rules for grading system:\n",
        "\n",
        "a. Below 25 - F\n",
        "\n",
        "b. 25 to 45 - E\n",
        "\n",
        "c. 45 to 50 - D\n",
        "\n",
        "d. 50 to 60 - C\n",
        "\n",
        "e. 60 to 80 - B\n",
        "\n",
        "f. Above 80 - A\n",
        "\n",
        "**write a function that takes the marks as input and prints the grades**"
      ]
    },
    {
      "cell_type": "code",
      "metadata": {
        "id": "1rVT8azo7tZh",
        "colab": {
          "base_uri": "https://localhost:8080/"
        },
        "outputId": "d2235577-db54-47e1-dff3-e92d7076da4c"
      },
      "source": [
        "marks = int(input(\"marks \"))\n",
        "if marks<25:\n",
        "  print('F')\n",
        "elif marks>25 and marks<=45:\n",
        "  print('E')\n",
        "elif marks>45 and marks<=50:\n",
        "  print('D')\n",
        "elif marks>50 and marks<=60:\n",
        "  print('C')\n",
        "elif marks>60 and marks<=80:\n",
        "  print('B')\n",
        "elif marks>80:\n",
        "  print('A')"
      ],
      "execution_count": 1,
      "outputs": [
        {
          "output_type": "stream",
          "text": [
            "marks 37\n",
            "E\n"
          ],
          "name": "stdout"
        }
      ]
    },
    {
      "cell_type": "markdown",
      "metadata": {
        "id": "hobobMVh7b-u"
      },
      "source": [
        "**Write a Python function to find the Max of three numbers.**"
      ]
    },
    {
      "cell_type": "code",
      "metadata": {
        "id": "pgt7q3ue6-NZ",
        "colab": {
          "base_uri": "https://localhost:8080/"
        },
        "outputId": "716b73b1-30c4-41f5-9cb3-856f34a42f98"
      },
      "source": [
        "num1= int(input(\"num1 \"))\n",
        "num2= int(input(\"num2 \"))\n",
        "num3= int(input(\"num3 \"))\n",
        "\n",
        "if num1>num2 and num1>num3: \n",
        " print('max', num1)\n",
        "elif num2>num3 and num2>num1: \n",
        " print('max', num2)\n",
        "elif num3>num2 and num3>num1: \n",
        " print('max', num3)"
      ],
      "execution_count": 2,
      "outputs": [
        {
          "output_type": "stream",
          "text": [
            "num1 8\n",
            "num2 9\n",
            "num3 11\n",
            "max 11\n"
          ],
          "name": "stdout"
        }
      ]
    },
    {
      "cell_type": "markdown",
      "metadata": {
        "id": "Ib2Uifcj89H1"
      },
      "source": [
        "**Write a function that takes 2 numbers as an input and returns XOR of 1's compliment of both numbers**"
      ]
    },
    {
      "cell_type": "code",
      "metadata": {
        "id": "U5Fxm_0s7gBg",
        "colab": {
          "base_uri": "https://localhost:8080/"
        },
        "outputId": "dba4136f-41cc-4bd7-d3eb-5ccb74f7ec65"
      },
      "source": [
        "a= int(input(\"a \"))\n",
        "b= int(input(\"b \"))\n",
        "\n",
        "print(\"a^b=\" , a^b)"
      ],
      "execution_count": 3,
      "outputs": [
        {
          "output_type": "stream",
          "text": [
            "a 7\n",
            "b 9\n",
            "a^b= 14\n"
          ],
          "name": "stdout"
        }
      ]
    },
    {
      "cell_type": "markdown",
      "metadata": {
        "id": "RzvgxvHq9SOm"
      },
      "source": [
        "**Write a function calculation() such that it can accept two variables and calculate the addition and subtraction of them. And also it must return both addition and subtraction in a single return call**"
      ]
    },
    {
      "cell_type": "code",
      "metadata": {
        "id": "jALDqzdH9b2W",
        "colab": {
          "base_uri": "https://localhost:8080/"
        },
        "outputId": "370b4466-19d1-4bab-96cf-df68743b52e6"
      },
      "source": [
        "def fun(a,b):\n",
        "  return a+b, a-b\n",
        "print(fun(2,7))"
      ],
      "execution_count": 10,
      "outputs": [
        {
          "output_type": "stream",
          "text": [
            "(9, -5)\n"
          ],
          "name": "stdout"
        }
      ]
    },
    {
      "cell_type": "markdown",
      "metadata": {
        "id": "l-98gIOq9cuV"
      },
      "source": [
        "Create an inner function to calculate the addition in the following way<br>\n",
        "Create an outer function that will accept two parameters, a and b<br>\n",
        "Create an inner function inside an outer function that will calculate the addition of a and b<br>\n",
        "At last, an outer function will add 5 into addition and return it"
      ]
    },
    {
      "cell_type": "code",
      "metadata": {
        "id": "4Eig0Hzd-Cbd",
        "colab": {
          "base_uri": "https://localhost:8080/"
        },
        "outputId": "8d3ff827-dac6-41d5-e21d-1806753c982c"
      },
      "source": [
        "def of(a,b):\n",
        "  def inf(a,b):\n",
        "    return a+b\n",
        "  return inf(a,b)+5\n",
        "  print(a+b)\n",
        "\n",
        "of(7,19)\n",
        "\n"
      ],
      "execution_count": 21,
      "outputs": [
        {
          "output_type": "execute_result",
          "data": {
            "text/plain": [
              "31"
            ]
          },
          "metadata": {
            "tags": []
          },
          "execution_count": 21
        }
      ]
    },
    {
      "cell_type": "markdown",
      "metadata": {
        "id": "k2t7vQzyAHKW"
      },
      "source": [
        "**Run the below fuction in the cell given below and see what is the output**\n",
        "\n",
        "```\n",
        "# This is formatted as code\n",
        "def outerFun(a, b):\n",
        "    def innerFun(c, d):\n",
        "        return c + d\n",
        "    return innerFun(a, b)\n",
        "    return a\n",
        "\n",
        "result = outerFun(5, 10)\n",
        "print(result)\n",
        "```\n",
        "\n",
        "\n"
      ]
    },
    {
      "cell_type": "code",
      "metadata": {
        "id": "osz7-N9_BBOP",
        "colab": {
          "base_uri": "https://localhost:8080/"
        },
        "outputId": "84081fb0-04d5-4922-fcfe-af996754d24b"
      },
      "source": [
        "def outerFun(a, b):\n",
        "    def innerFun(c, d):\n",
        "        return c + d\n",
        "    return innerFun(a, b)\n",
        "    return a\n",
        " \n",
        "result = outerFun(5, 10)\n",
        "print(result)"
      ],
      "execution_count": 24,
      "outputs": [
        {
          "output_type": "stream",
          "text": [
            "15\n"
          ],
          "name": "stdout"
        }
      ]
    },
    {
      "cell_type": "markdown",
      "metadata": {
        "id": "8lu2BtScBkbG"
      },
      "source": [
        "**Run the code below and look at the output**\n",
        "```\n",
        "# This is formatted as code\n",
        "def display(**kwargs):\n",
        "    for i in kwargs:\n",
        "        print(i)\n",
        "display(emp=\"Kelly\", salary=9000)\n",
        "```\n",
        "if the function outputs both key and value then do nothing or else do the sufficient changes in the code to return the key, value tuple as the output.<br>\n",
        "correct output:- <br>(’emp’, ‘Kelly’)<br>(‘salary’, 9000)"
      ]
    },
    {
      "cell_type": "code",
      "metadata": {
        "id": "22TbXuiNCcNU",
        "colab": {
          "base_uri": "https://localhost:8080/"
        },
        "outputId": "43866b9b-a496-4a9d-c3b1-47bca65d4667"
      },
      "source": [
        "def display(**kwargs):\n",
        "    for title, post in kwargs.items():\n",
        "        print(title,post)\n",
        "display(emp='Kelly',salary=9000)"
      ],
      "execution_count": 57,
      "outputs": [
        {
          "output_type": "stream",
          "text": [
            "emp Kelly\n",
            "salary 9000\n"
          ],
          "name": "stdout"
        }
      ]
    },
    {
      "cell_type": "markdown",
      "metadata": {
        "id": "Td783_fV-Lgq"
      },
      "source": [
        "**Bonus**<br>\n",
        "Make 4 different function add, sub, mul, div that takes 2 integer as input and returns sum, difference, product, division respectively of 1st number over 2nd number.<br>\n",
        "After that make a function clculator that takes 3 input (2 integers and a string) the string should be either (\"add\", \"diff\", \"mul\", \"div\") of this 4 and then return the corresponding value.\n",
        "\n",
        "for example: if the user gives input as 12, 4 and \"div\" then return the division of 12 over 4, which is equal to 3"
      ]
    },
    {
      "cell_type": "code",
      "metadata": {
        "id": "7FveeoVR-K-b",
        "colab": {
          "base_uri": "https://localhost:8080/"
        },
        "outputId": "a9fa6347-37d1-4ee3-908b-d6f89982748a"
      },
      "source": [
        "a= int(input(\"a \"))\n",
        "b= int(input(\"b \"))\n",
        "print(\"sum\", a+b, \"diff\", a-b, \"mult\", a*b, \"div\", a/b)\n"
      ],
      "execution_count": 60,
      "outputs": [
        {
          "output_type": "stream",
          "text": [
            "a 8\n",
            "b 9\n",
            "sum 17 diff -1 mult 72 div 0.8888888888888888\n"
          ],
          "name": "stdout"
        }
      ]
    },
    {
      "cell_type": "code",
      "metadata": {
        "colab": {
          "base_uri": "https://localhost:8080/"
        },
        "id": "9PslNmMhxFKC",
        "outputId": "1cf00368-bd7c-4517-e39a-fa4704078b9e"
      },
      "source": [
        "def add(a,b):\n",
        "  return a+b\n",
        "def diff(a,b):\n",
        "  return a-b\n",
        "def mul(a,b):\n",
        "  return a*b\n",
        "def div(a,b):\n",
        "  return a/b\n",
        "def fn1(l,m,n):\n",
        "  if n== 'add':\n",
        "   print(add(l,m))\n",
        "  elif n== 'diff':\n",
        "   print(diff(l,m))\n",
        "  elif n== 'mul':\n",
        "   print(mul(l,m))\n",
        "  elif n== 'div':\n",
        "   print(div(l,m))\n",
        "  \n",
        "fn1(9, 6, 'div')\n"
      ],
      "execution_count": 9,
      "outputs": [
        {
          "output_type": "stream",
          "text": [
            "1.5\n"
          ],
          "name": "stdout"
        }
      ]
    }
  ]
}