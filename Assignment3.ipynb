{
  "nbformat": 4,
  "nbformat_minor": 0,
  "metadata": {
    "colab": {
      "name": "Assignment3.ipynb",
      "provenance": []
    },
    "kernelspec": {
      "name": "python3",
      "display_name": "Python 3"
    },
    "language_info": {
      "name": "python"
    }
  },
  "cells": [
    {
      "cell_type": "markdown",
      "metadata": {
        "id": "BO7jbmFPi6Df"
      },
      "source": [
        "**Q. Ask user to enter age, sex ( M or F ), marital status ( Y or N ) and then using following rules print** **their place of service.\n",
        "if employee is female, then she will work only in urban areas.**\n",
        "\n",
        "**if employee is a male and age is in between 20 to 40 then he may work in anywhere**\n",
        "\n",
        "**if employee is male and age is in between 40 t0 60 then he will work in urban areas only.**\n",
        "\n",
        "**And any other input of age should print \"ERROR\".**"
      ]
    },
    {
      "cell_type": "code",
      "metadata": {
        "id": "sdEFyzqDi7C_"
      },
      "source": [
        ""
      ],
      "execution_count": null,
      "outputs": []
    },
    {
      "cell_type": "markdown",
      "metadata": {
        "id": "2Hab5sKxhMMv"
      },
      "source": [
        "**Q. Take input of age of 3 people by user and determine oldest and youngest** \n",
        "**among them, using if-else statement**\n"
      ]
    },
    {
      "cell_type": "code",
      "metadata": {
        "id": "NyyWQpAohMxk"
      },
      "source": [
        ""
      ],
      "execution_count": null,
      "outputs": []
    },
    {
      "cell_type": "markdown",
      "metadata": {
        "id": "UkkVeOo0mPq3"
      },
      "source": [
        "\n",
        "**Q. Take input of integer n, perform the following conditional actions:**\n",
        "\n",
        "**If n is odd, print Weird**\n",
        "\n",
        "**If n is even and in the inclusive range of  0 to 10, print Not Weird**\n",
        "\n",
        "**If n is even and in the inclusive range of 11 to 100, print Weird**\n",
        "\n",
        "**If n is even and greater than 100, print Not Weird**"
      ]
    },
    {
      "cell_type": "code",
      "metadata": {
        "id": "fPSDoiiKm58M"
      },
      "source": [
        ""
      ],
      "execution_count": null,
      "outputs": []
    },
    {
      "cell_type": "markdown",
      "metadata": {
        "id": "LtsiJj10hNmY"
      },
      "source": [
        "**Q. Print the following pattern**\n",
        "\n",
        "1 \n",
        "\n",
        "1 2 \n",
        "\n",
        "1 2 3 \n",
        "\n",
        "1 2 3 4 \n",
        "\n",
        "1 2 3 4 5"
      ]
    },
    {
      "cell_type": "markdown",
      "metadata": {
        "id": "1y6i2HCFnYpL"
      },
      "source": [
        "**Q. Take input of two integers A and B. Write a code and print sum of all the numbers which are divisible by 11 but not by 2 between 100 and 500.**"
      ]
    },
    {
      "cell_type": "code",
      "metadata": {
        "id": "tH1QAGWDhU9J"
      },
      "source": [
        ""
      ],
      "execution_count": null,
      "outputs": []
    },
    {
      "cell_type": "markdown",
      "metadata": {
        "id": "YGKYlAHUn91G"
      },
      "source": [
        "**Q. Take a input of any integer and print sum of its digits.**"
      ]
    },
    {
      "cell_type": "code",
      "metadata": {
        "id": "C_4o3gPNoRE2"
      },
      "source": [
        ""
      ],
      "execution_count": null,
      "outputs": []
    }
  ]
}