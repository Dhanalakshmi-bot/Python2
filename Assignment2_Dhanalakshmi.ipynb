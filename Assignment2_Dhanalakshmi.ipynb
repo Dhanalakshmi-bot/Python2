{
  "nbformat": 4,
  "nbformat_minor": 0,
  "metadata": {
    "colab": {
      "name": "Assignment2_Dhanalakshmi.ipynb",
      "provenance": [],
      "toc_visible": true
    },
    "kernelspec": {
      "name": "python3",
      "display_name": "Python 3"
    }
  },
  "cells": [
    {
      "cell_type": "markdown",
      "metadata": {
        "id": "0_YhujSdZl4S"
      },
      "source": [
        "# List"
      ]
    },
    {
      "cell_type": "markdown",
      "metadata": {
        "id": "ACXJkl4TZs4k"
      },
      "source": [
        "**Functions and Methods**"
      ]
    },
    {
      "cell_type": "markdown",
      "metadata": {
        "id": "wsFf1wnca3Jw"
      },
      "source": [
        "Q1. use sort() function to sort [34,1,2,6,3,7], [[1,3], [3,2], [1,2], [3,1]] and ['a', 'x', 'e', 'A', 'X', 'E'] and tell us what you observe in 2nd, 3rd list"
      ]
    },
    {
      "cell_type": "code",
      "metadata": {
        "id": "bwOuPkT9cCcm",
        "colab": {
          "base_uri": "https://localhost:8080/"
        },
        "outputId": "04367648-4f9f-4e69-ad12-9c8325eedb55"
      },
      "source": [
        "list=[34,1,2,6,3,7]\n",
        "list.sort()\n",
        "print(list)"
      ],
      "execution_count": null,
      "outputs": [
        {
          "output_type": "stream",
          "text": [
            "[1, 2, 3, 6, 7, 34]\n"
          ],
          "name": "stdout"
        }
      ]
    },
    {
      "cell_type": "code",
      "metadata": {
        "id": "TW42GJCebqgN",
        "colab": {
          "base_uri": "https://localhost:8080/"
        },
        "outputId": "f387383f-c80d-43b3-881e-94286115bf05"
      },
      "source": [
        "list1=[[1,3], [3,2], [1,2], [3,1]]\n",
        "list1.sort()\n",
        "print(list1) #obsevation: list is sorted by sublists in ascending order"
      ],
      "execution_count": null,
      "outputs": [
        {
          "output_type": "stream",
          "text": [
            "[[1, 2], [1, 3], [3, 1], [3, 2]]\n"
          ],
          "name": "stdout"
        }
      ]
    },
    {
      "cell_type": "code",
      "metadata": {
        "id": "HvYQe7TejVFT",
        "colab": {
          "base_uri": "https://localhost:8080/"
        },
        "outputId": "b619ba0b-6b2c-4eff-c60c-2f969866898f"
      },
      "source": [
        "list2= ['a','x','e','A','X','E']\n",
        "list2.sort()\n",
        "print(list2) \n",
        "#observation: list is sorted by capital letters first and then small letters in ascending alphabetical order"
      ],
      "execution_count": null,
      "outputs": [
        {
          "output_type": "stream",
          "text": [
            "['A', 'E', 'X', 'a', 'e', 'x']\n"
          ],
          "name": "stdout"
        }
      ]
    },
    {
      "cell_type": "markdown",
      "metadata": {
        "id": "RAgCO40Nb3As"
      },
      "source": [
        "Q2. using count() function print the count of 2 and 3 and then using pop() and remove() function to get all a list of unique numbers for [1,2,2,3,3,3]"
      ]
    },
    {
      "cell_type": "code",
      "metadata": {
        "id": "xGHObY5JmHv_",
        "colab": {
          "base_uri": "https://localhost:8080/"
        },
        "outputId": "727a8311-e5b3-41a7-8b50-58172f3f4996"
      },
      "source": [
        "a=  [1,2,2,3,3,3]\n",
        "print(a.count(2))\n",
        "print(a.count(3))"
      ],
      "execution_count": null,
      "outputs": [
        {
          "output_type": "stream",
          "text": [
            "2\n",
            "3\n"
          ],
          "name": "stdout"
        }
      ]
    },
    {
      "cell_type": "code",
      "metadata": {
        "id": "jDNdnYP0cOks",
        "colab": {
          "base_uri": "https://localhost:8080/"
        },
        "outputId": "d27a8f51-048a-4789-a870-8c00e1afdbd3"
      },
      "source": [
        "print(a.pop(0))\n",
        "print(a)"
      ],
      "execution_count": null,
      "outputs": [
        {
          "output_type": "stream",
          "text": [
            "1\n",
            "[2]\n"
          ],
          "name": "stdout"
        }
      ]
    },
    {
      "cell_type": "code",
      "metadata": {
        "id": "ufJM-Ei8cPHH",
        "colab": {
          "base_uri": "https://localhost:8080/"
        },
        "outputId": "c808c7b4-97fe-403e-d91f-6eb83aa7ee82"
      },
      "source": [
        "print(a)\n",
        "print(a.remove(2))"
      ],
      "execution_count": null,
      "outputs": [
        {
          "output_type": "stream",
          "text": [
            "[2]\n",
            "None\n"
          ],
          "name": "stdout"
        }
      ]
    },
    {
      "cell_type": "markdown",
      "metadata": {
        "id": "wYS-rtvmcQUU"
      },
      "source": [
        "Q3. using index() find the index of min and max value in the list [3,6,2,1,7,2,9] and swap them "
      ]
    },
    {
      "cell_type": "code",
      "metadata": {
        "id": "2YGA7rDbc3HD",
        "colab": {
          "base_uri": "https://localhost:8080/"
        },
        "outputId": "83292f7c-ba08-495d-ce0c-ff42a4d9810a"
      },
      "source": [
        "l=[3,6,2,1,7,2,9] \n",
        "print(l.index(max(l)))\n",
        "print(l.index(min(l)))\n",
        "\n",
        "def swap(l) :\n",
        "  max_index=l.index(max(l))\n",
        "  min_index=l.index(min(l))\n",
        "  ma=max(l)\n",
        "  mi=min(l)\n",
        "  l[max_index]=mi\n",
        "  l[min_index]=ma\n",
        "swap(l)\n",
        "print(l)\n",
        "\n",
        "\n"
      ],
      "execution_count": 38,
      "outputs": [
        {
          "output_type": "stream",
          "text": [
            "6\n",
            "3\n",
            "[3, 6, 2, 9, 7, 2, 1]\n"
          ],
          "name": "stdout"
        }
      ]
    },
    {
      "cell_type": "markdown",
      "metadata": {
        "id": "jmv0ofTFhEMa"
      },
      "source": [
        ""
      ]
    },
    {
      "cell_type": "markdown",
      "metadata": {
        "id": "FzBKzAuUfW7R"
      },
      "source": [
        "**Slicing**"
      ]
    },
    {
      "cell_type": "markdown",
      "metadata": {
        "id": "rAddE2xZfn6D"
      },
      "source": [
        "Q4. Using slicing method slice [1,2,3,4,5,6,7,8,9,10] in the following ways<br>\n",
        "    a) elements <4 and elements>6 <br>\n",
        "    b) elements <=5 and element >5 but in reverse order<br>\n",
        "    c) odd numbers and even numbers"
      ]
    },
    {
      "cell_type": "code",
      "metadata": {
        "id": "z0VsBaJJfxGW",
        "colab": {
          "base_uri": "https://localhost:8080/"
        },
        "outputId": "17a91112-9d58-4791-fdbf-15fe2c428bd6"
      },
      "source": [
        "b=[1,2,3,4,5,6,7,8,9,10]\n",
        "print(b[0:3])\n",
        "print(b[6:])"
      ],
      "execution_count": null,
      "outputs": [
        {
          "output_type": "stream",
          "text": [
            "[1, 2, 3]\n",
            "[7, 8, 9, 10]\n"
          ],
          "name": "stdout"
        }
      ]
    },
    {
      "cell_type": "code",
      "metadata": {
        "id": "7JTcQuDIgwp6",
        "colab": {
          "base_uri": "https://localhost:8080/"
        },
        "outputId": "b211cbfd-e3de-4f89-a836-d754add5ce71"
      },
      "source": [
        "print(b[4::-1])\n",
        "print(b[9:4:-1])"
      ],
      "execution_count": null,
      "outputs": [
        {
          "output_type": "stream",
          "text": [
            "[5, 4, 3, 2, 1]\n",
            "[10, 9, 8, 7, 6]\n"
          ],
          "name": "stdout"
        }
      ]
    },
    {
      "cell_type": "code",
      "metadata": {
        "id": "zUUY9xPHgw_t",
        "colab": {
          "base_uri": "https://localhost:8080/"
        },
        "outputId": "002bebca-1de1-4878-89a6-a167da1db4b6"
      },
      "source": [
        "print(b[0::2])\n",
        "print(b[1::2])"
      ],
      "execution_count": null,
      "outputs": [
        {
          "output_type": "stream",
          "text": [
            "[1, 3, 5, 7, 9]\n",
            "[2, 4, 6, 8, 10]\n"
          ],
          "name": "stdout"
        }
      ]
    },
    {
      "cell_type": "markdown",
      "metadata": {
        "id": "tpbLObMQgynv"
      },
      "source": [
        "Q5. Use extend() and list concatenation function on the 2 list obtained from Q4.c"
      ]
    },
    {
      "cell_type": "code",
      "metadata": {
        "id": "k4-TRcsRg-qV",
        "colab": {
          "base_uri": "https://localhost:8080/"
        },
        "outputId": "6c4e3771-f65d-45a5-f5fa-8ba6884ed108"
      },
      "source": [
        "a1=[1, 3, 5, 7, 9]\n",
        "a2=[2, 4, 6, 8, 10]\n",
        "a1.extend(a2)\n",
        "print(a1) #extend()function"
      ],
      "execution_count": null,
      "outputs": [
        {
          "output_type": "stream",
          "text": [
            "[1, 3, 5, 7, 9, 2, 4, 6, 8, 10]\n"
          ],
          "name": "stdout"
        }
      ]
    },
    {
      "cell_type": "code",
      "metadata": {
        "id": "9Usesd2uhLcK",
        "colab": {
          "base_uri": "https://localhost:8080/"
        },
        "outputId": "cf422313-43a1-4be8-8d26-4e1aa4f6cc35"
      },
      "source": [
        "b1=[1, 3, 5, 7, 9]\n",
        "b1=b1+[2, 4, 6, 8, 10]\n",
        "print(b1) #concatenation"
      ],
      "execution_count": null,
      "outputs": [
        {
          "output_type": "stream",
          "text": [
            "[1, 3, 5, 7, 9, 2, 4, 6, 8, 10]\n"
          ],
          "name": "stdout"
        }
      ]
    },
    {
      "cell_type": "markdown",
      "metadata": {
        "id": "CJCeEmFCi3dJ"
      },
      "source": [
        "**Unpacking List**"
      ]
    },
    {
      "cell_type": "markdown",
      "metadata": {
        "id": "biNelgs_i7ZI"
      },
      "source": [
        "Q6. using unpacking method unpack the following lists in different data types<br>\n",
        "a) [1,2.1,\"hello\"]<br>\n",
        "b) [\"hi\", 1.1, 2.3, [1,2]]\n",
        "c) [\"h1\", [1,3], 1,2]"
      ]
    },
    {
      "cell_type": "code",
      "metadata": {
        "id": "aHwJfIx-lx6i",
        "colab": {
          "base_uri": "https://localhost:8080/"
        },
        "outputId": "f3143860-59f2-43da-d19d-5277d1a34b2d"
      },
      "source": [
        "*a,b =  [1,2.1,\"hello\"]\n",
        "print(a)\n",
        "print(b)"
      ],
      "execution_count": null,
      "outputs": [
        {
          "output_type": "stream",
          "text": [
            "[1, 2.1]\n",
            "hello\n"
          ],
          "name": "stdout"
        }
      ]
    },
    {
      "cell_type": "code",
      "metadata": {
        "id": "-uole7rPlyPU",
        "colab": {
          "base_uri": "https://localhost:8080/"
        },
        "outputId": "3dad9d32-b767-4d1a-8a48-0841c3eb68cc"
      },
      "source": [
        "a,*b,c =  [\"hi\", 1.1, 2.3, [1,2]]\n",
        "print(b)"
      ],
      "execution_count": null,
      "outputs": [
        {
          "output_type": "stream",
          "text": [
            "[1.1, 2.3]\n"
          ],
          "name": "stdout"
        }
      ]
    },
    {
      "cell_type": "code",
      "metadata": {
        "id": "pdgoeojdlyuZ",
        "colab": {
          "base_uri": "https://localhost:8080/"
        },
        "outputId": "1034b963-8a58-4eed-89b2-a64aab80cb17"
      },
      "source": [
        "a,b,*c = [\"h1\", [1,3], 1,2]\n",
        "print(c)"
      ],
      "execution_count": null,
      "outputs": [
        {
          "output_type": "stream",
          "text": [
            "[1, 2]\n"
          ],
          "name": "stdout"
        }
      ]
    },
    {
      "cell_type": "markdown",
      "metadata": {
        "id": "zDeltUd2hRZo"
      },
      "source": [
        "# String"
      ]
    },
    {
      "cell_type": "markdown",
      "metadata": {
        "id": "z_x3P_EfhVO2"
      },
      "source": [
        "**Functions and Methods**"
      ]
    },
    {
      "cell_type": "markdown",
      "metadata": {
        "id": "Kc64jflrmb_I"
      },
      "source": [
        "Q1. Using split() function split the following strings on the given character<br>\n",
        "a) \"Hello I am Google Colab\", \" \" (normal split)<br>\n",
        "b) \"user@example.com\", \"@\" <br>\n",
        "c) \"Amanda is a woman\", \"a\" "
      ]
    },
    {
      "cell_type": "code",
      "metadata": {
        "id": "TAUZgcwtvc6n",
        "colab": {
          "base_uri": "https://localhost:8080/"
        },
        "outputId": "04dfe139-9525-4091-d756-cd14b3c0f55d"
      },
      "source": [
        "a=\"Hello I am Google Colab\"\n",
        "a.split(\" \")\n",
        "print(a.split(\" \"))"
      ],
      "execution_count": 22,
      "outputs": [
        {
          "output_type": "stream",
          "text": [
            "['Hello', 'I', 'am', 'Google', 'Colab']\n"
          ],
          "name": "stdout"
        }
      ]
    },
    {
      "cell_type": "code",
      "metadata": {
        "id": "1BexlL9_ve19",
        "colab": {
          "base_uri": "https://localhost:8080/"
        },
        "outputId": "48cff0af-95be-427d-b4db-18bd73afd966"
      },
      "source": [
        " b=\"user@example.com\"\n",
        " \n",
        " print(b.split(\"@\"))"
      ],
      "execution_count": 21,
      "outputs": [
        {
          "output_type": "stream",
          "text": [
            "['user', 'example.com']\n"
          ],
          "name": "stdout"
        }
      ]
    },
    {
      "cell_type": "code",
      "metadata": {
        "id": "RwMXvE0Wvej1",
        "colab": {
          "base_uri": "https://localhost:8080/"
        },
        "outputId": "ffb158b3-b90e-4435-8037-806f9ad9ed03"
      },
      "source": [
        "c=\"Amanda is a woman\"\n",
        "print(c.split('a'))"
      ],
      "execution_count": 23,
      "outputs": [
        {
          "output_type": "stream",
          "text": [
            "['Am', 'nd', ' is ', ' wom', 'n']\n"
          ],
          "name": "stdout"
        }
      ]
    },
    {
      "cell_type": "markdown",
      "metadata": {
        "id": "BiADO5h_wyJH"
      },
      "source": [
        "Q2. Join the list [\"Hello\", \"World\", \"Nice\", \"to\", \"meet\", \"you\"] with the following way<br>\n",
        "a) normal<br>\n",
        "b) \"@\""
      ]
    },
    {
      "cell_type": "code",
      "metadata": {
        "id": "msXoMLpyxLSn",
        "colab": {
          "base_uri": "https://localhost:8080/"
        },
        "outputId": "5d816fcb-1757-46ef-8abe-c6c93285fda8"
      },
      "source": [
        "a=[\"Hello\", \"World\", \"Nice\", \"to\", \"meet\", \"you\"]\n",
        "print(\" \".join(a))"
      ],
      "execution_count": 27,
      "outputs": [
        {
          "output_type": "stream",
          "text": [
            "Hello World Nice to meet you\n"
          ],
          "name": "stdout"
        }
      ]
    },
    {
      "cell_type": "code",
      "metadata": {
        "id": "vFC0OAFUxKz9",
        "colab": {
          "base_uri": "https://localhost:8080/"
        },
        "outputId": "5b99809e-b6a0-4937-ee40-f4641145e747"
      },
      "source": [
        "print(\"@\".join(a))"
      ],
      "execution_count": 28,
      "outputs": [
        {
          "output_type": "stream",
          "text": [
            "Hello@World@Nice@to@meet@you\n"
          ],
          "name": "stdout"
        }
      ]
    },
    {
      "cell_type": "markdown",
      "metadata": {
        "id": "NvYLLIP5xSnm"
      },
      "source": [
        "Q3. Replace \"?\" in the string with the right word to make a logically correct sentence<br>\n",
        "a) \"one plus one is ?\"\n",
        "b) \"it's ? in the clock\" (mention the time in the clock when you are atempting this question)"
      ]
    },
    {
      "cell_type": "code",
      "metadata": {
        "id": "x5yJb3c3yKUD",
        "colab": {
          "base_uri": "https://localhost:8080/"
        },
        "outputId": "49fb500a-a111-4eb8-9551-68c18904e663"
      },
      "source": [
        "a=\"one plus one is ?\"\n",
        "print(a.replace('?','two'))"
      ],
      "execution_count": 29,
      "outputs": [
        {
          "output_type": "stream",
          "text": [
            "one plus one is two\n"
          ],
          "name": "stdout"
        }
      ]
    },
    {
      "cell_type": "code",
      "metadata": {
        "id": "6RYDvBJ1yKs-",
        "colab": {
          "base_uri": "https://localhost:8080/"
        },
        "outputId": "a5d15295-1f02-49d3-c964-b39cd5a9a67d"
      },
      "source": [
        "b=\"it's ? in the clock\"\n",
        "print(b.replace('?', '7.40'))"
      ],
      "execution_count": 30,
      "outputs": [
        {
          "output_type": "stream",
          "text": [
            "it's 7.40 in the clock\n"
          ],
          "name": "stdout"
        }
      ]
    },
    {
      "cell_type": "markdown",
      "metadata": {
        "id": "1U6h2sEQy16G"
      },
      "source": [
        "# Dictionaries"
      ]
    },
    {
      "cell_type": "markdown",
      "metadata": {
        "id": "37oOlcWPy5WF"
      },
      "source": [
        "Q1. Construct a Dictionary with keys ===> \"name\", \"age\", \"color\", \"place\" and repective values ===> your name, your age, your fav color, place where you live.<br>\n",
        "\n",
        "After constructing the dictionary, print the list of keys, values and items of the dictionary"
      ]
    },
    {
      "cell_type": "code",
      "metadata": {
        "id": "3crjrol40B0C",
        "colab": {
          "base_uri": "https://localhost:8080/"
        },
        "outputId": "3fbf753e-0501-4e23-fefa-128077bf15af"
      },
      "source": [
        "my_dict={'name': 'Dhana', 'age': 21, 'fav_color': 'Brown', 'Place': 'AndhraPradesh'}\n",
        "print(my_dict)\n",
        "print(my_dict.items())\n",
        "print(my_dict.values())\n",
        "print(my_dict.keys())"
      ],
      "execution_count": 32,
      "outputs": [
        {
          "output_type": "stream",
          "text": [
            "{'name': 'Dhana', 'age': 21, 'fav_color': 'Brown', 'Place': 'AndhraPradesh'}\n",
            "dict_items([('name', 'Dhana'), ('age', 21), ('fav_color', 'Brown'), ('Place', 'AndhraPradesh')])\n",
            "dict_values(['Dhana', 21, 'Brown', 'AndhraPradesh'])\n",
            "dict_keys(['name', 'age', 'fav_color', 'Place'])\n"
          ],
          "name": "stdout"
        }
      ]
    },
    {
      "cell_type": "markdown",
      "metadata": {
        "id": "-2oCggYb0EdW"
      },
      "source": [
        "Q2. Construct a dictionary that contains 2 keys each as a name of your friend and value as a dictionary mentioned in Q1<br>\n",
        "\n",
        "eg:- {\"friend1\":{\"name\": \"Prashant\", \"age\": \"22\"....}, \"friend2\": {...}}\n",
        "\n",
        "print the list items of the main dictionary and also the sub-dictionaries present as value"
      ]
    },
    {
      "cell_type": "code",
      "metadata": {
        "id": "WfjnJVxx1P8E",
        "colab": {
          "base_uri": "https://localhost:8080/"
        },
        "outputId": "333db028-43e5-4c56-b4ec-0c301bba4969"
      },
      "source": [
        "a={'f1':{'name': 'Dhana', 'age': 21}, 'f2':{'name': 'Jyoti', 'age': 21}}\n",
        "print(a)\n",
        "print(a['f1'])\n",
        "print(a['f2'])"
      ],
      "execution_count": 37,
      "outputs": [
        {
          "output_type": "stream",
          "text": [
            "{'f1': {'name': 'Dhana', 'age': 21}, 'f2': {'name': 'Jyoti', 'age': 21}}\n",
            "{'name': 'Dhana', 'age': 21}\n",
            "{'name': 'Jyoti', 'age': 21}\n"
          ],
          "name": "stdout"
        }
      ]
    },
    {
      "cell_type": "code",
      "metadata": {
        "id": "MpD285A20qRR"
      },
      "source": [
        ""
      ],
      "execution_count": null,
      "outputs": []
    }
  ]
}