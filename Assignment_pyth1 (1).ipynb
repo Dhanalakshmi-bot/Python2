{
  "nbformat": 4,
  "nbformat_minor": 0,
  "metadata": {
    "colab": {
      "name": "Assignment_pyth1.ipynb",
      "provenance": [],
      "collapsed_sections": []
    },
    "kernelspec": {
      "name": "python3",
      "display_name": "Python 3"
    }
  },
  "cells": [
    {
      "cell_type": "markdown",
      "metadata": {
        "id": "sU6ae47jTjoW"
      },
      "source": [
        "**Type of Variables**<br>\n",
        "Print the type of i, j, k, s using print(type()) function"
      ]
    },
    {
      "cell_type": "code",
      "metadata": {
        "id": "MGNs4BKoSOIi"
      },
      "source": [
        "i = 10\n",
        "j = 11.4\n",
        "k = [1,2,\"Hello\",\"World\"]\n",
        "s = \"Hello World\""
      ],
      "execution_count": 1,
      "outputs": []
    },
    {
      "cell_type": "code",
      "metadata": {
        "id": "DkTMswFagVmq",
        "colab": {
          "base_uri": "https://localhost:8080/",
          "height": 0
        },
        "outputId": "72ad4f3a-ab01-474a-c79a-3912f138bccf"
      },
      "source": [
        "print(i,j,k,s)"
      ],
      "execution_count": 2,
      "outputs": [
        {
          "output_type": "stream",
          "text": [
            "10 11.4 [1, 2, 'Hello', 'World'] Hello World\n"
          ],
          "name": "stdout"
        }
      ]
    },
    {
      "cell_type": "code",
      "metadata": {
        "id": "BVkXef1ZgmYM",
        "colab": {
          "base_uri": "https://localhost:8080/",
          "height": 0
        },
        "outputId": "68842f92-dcbb-450a-9735-0465da59a288"
      },
      "source": [
        "print(type(i))\n",
        "\n"
      ],
      "execution_count": 4,
      "outputs": [
        {
          "output_type": "stream",
          "text": [
            "<class 'int'>\n"
          ],
          "name": "stdout"
        }
      ]
    },
    {
      "cell_type": "markdown",
      "metadata": {
        "id": "h9rGRe4dUp5X"
      },
      "source": [
        "**Basic Input & Output**"
      ]
    },
    {
      "cell_type": "markdown",
      "metadata": {
        "id": "uMsrbtXHVME3"
      },
      "source": [
        "Q1. write an input function to take name of the user. While taking input the screen should tell \"What is your good name\" and then print it saying \"Hello, this is {Name}\"."
      ]
    },
    {
      "cell_type": "code",
      "metadata": {
        "id": "oD6e39t0V368",
        "colab": {
          "base_uri": "https://localhost:8080/",
          "height": 0
        },
        "outputId": "60ff1d59-d71a-4fc0-ffec-247c37c123bf"
      },
      "source": [
        "name= input('what is your good name ')\n",
        "print(\"hello\", name)"
      ],
      "execution_count": 8,
      "outputs": [
        {
          "output_type": "stream",
          "text": [
            "what is your good name dhana\n",
            "hello dhana\n"
          ],
          "name": "stdout"
        }
      ]
    },
    {
      "cell_type": "markdown",
      "metadata": {
        "id": "cL_B-uAdV6Em"
      },
      "source": [
        "Q2. Take 2 input one as a favourite movie and other as favourite Actor<br>\n",
        "Now print out \"your like {movie} and {actor}\" as a output using both .format() and f-string method"
      ]
    },
    {
      "cell_type": "code",
      "metadata": {
        "id": "rdEBX5vDYQGi",
        "colab": {
          "base_uri": "https://localhost:8080/",
          "height": 0
        },
        "outputId": "2a2b306c-5b44-4645-a936-48a40ac761e4"
      },
      "source": [
        "f_movie= input('what is your favourite movie ')\n",
        "f_actor= input('who is your favourite actor ')\n",
        "print(\"your like {} and {} \".format(f_movie, f_actor))\n",
        "print(f\"you like {f_movie} and {f_actor}\")"
      ],
      "execution_count": 13,
      "outputs": [
        {
          "output_type": "stream",
          "text": [
            "what is your favourite movie RRR\n",
            "who is your favourite actor Ram charan\n",
            "your like RRR and Ram charan \n",
            "you like RRR and Ram charan\n"
          ],
          "name": "stdout"
        }
      ]
    },
    {
      "cell_type": "markdown",
      "metadata": {
        "id": "6x6_Eb5TYzC3"
      },
      "source": [
        "**Operators**"
      ]
    },
    {
      "cell_type": "markdown",
      "metadata": {
        "id": "VltAXW_xZi45"
      },
      "source": [
        "Q1. Take 2 interger as input and print sum, multiplication, difference, division, modulus, floor division of first input over second input in every new line."
      ]
    },
    {
      "cell_type": "code",
      "metadata": {
        "id": "-pEBOk-GaZE5",
        "colab": {
          "base_uri": "https://localhost:8080/",
          "height": 0
        },
        "outputId": "8d3be851-4802-4ddd-c4ec-08d14c80bc33"
      },
      "source": [
        "num1 = int(input(\"enter first number \"))\n",
        "num2 = int(input(\"enter second number \"))\n",
        "print(\"sum is {} \\ndifference is {} \\nmultiplication is {} \\ndivision is {} \\nmodulus is {} \\nfloor division is {}\".format(num1+num2, num1-num2, num1*num2, num1/num2, num1%num2, num1//num2))"
      ],
      "execution_count": 1,
      "outputs": [
        {
          "output_type": "stream",
          "text": [
            "enter first number 2\n",
            "enter second number 9\n",
            "sum is 11 \n",
            "difference is -7 \n",
            "multiplication is 18 \n",
            "division is 0.2222222222222222 \n",
            "modulus is 2 \n",
            "floor division is 0\n"
          ],
          "name": "stdout"
        }
      ]
    },
    {
      "cell_type": "markdown",
      "metadata": {
        "id": "oar8z3Xsay6o"
      },
      "source": [
        "Q2. Again take 2 integer as input, print their squares and repeat Q1 for their squares"
      ]
    },
    {
      "cell_type": "code",
      "metadata": {
        "id": "VcOc42BJbrGh",
        "colab": {
          "base_uri": "https://localhost:8080/",
          "height": 0
        },
        "outputId": "c4a99c43-25b9-42ce-efc8-75850888a210"
      },
      "source": [
        "num1 = int(input(\"enter first number \"))\n",
        "num2 = int(input(\"enter second number \"))\n",
        "sq_num1 = num1**2\n",
        "sq_num2 = num2**2\n",
        "print(\"sum is {} \\ndifference is {} \\nmultiplication is {} \\ndivision is {} \\nmodulus is {} \\nfloor division is {}\".format(sq_num1+sq_num2, sq_num1-sq_num2, sq_num1*sq_num2, sq_num1/sq_num2, sq_num1%sq_num2, sq_num1//sq_num2))"
      ],
      "execution_count": 2,
      "outputs": [
        {
          "output_type": "stream",
          "text": [
            "enter first number 2\n",
            "enter second number 9\n",
            "sum is 85 \n",
            "difference is -77 \n",
            "multiplication is 324 \n",
            "division is 0.04938271604938271 \n",
            "modulus is 4 \n",
            "floor division is 0\n"
          ],
          "name": "stdout"
        }
      ]
    },
    {
      "cell_type": "markdown",
      "metadata": {
        "id": "6aXldHtdqVBn"
      },
      "source": [
        "**Some Useful Function**"
      ]
    },
    {
      "cell_type": "markdown",
      "metadata": {
        "id": "v-B6JnXD4sE0"
      },
      "source": [
        "Q1. Take 3 integer as input and print the minimum and maximum of these 3 inputs"
      ]
    },
    {
      "cell_type": "code",
      "metadata": {
        "id": "j7ygLU_UqZjG",
        "colab": {
          "base_uri": "https://localhost:8080/",
          "height": 0
        },
        "outputId": "e7e9c19f-b1d4-422f-cc45-8079d68a2457"
      },
      "source": [
        "a, b, c = int(input()), int(input()), int(input())\n",
        "print(max(a,b,c), \"\\n\", min(a,b,c))"
      ],
      "execution_count": 4,
      "outputs": [
        {
          "output_type": "stream",
          "text": [
            "7\n",
            "8\n",
            "9\n",
            "9 \n",
            " 7\n"
          ],
          "name": "stdout"
        }
      ]
    },
    {
      "cell_type": "markdown",
      "metadata": {
        "id": "EaTO304f5XOf"
      },
      "source": [
        "Q2. Use sum() and print the sum of <br>\n",
        "a) All elements of list <br>\n",
        "b) Except 1st element of the list<br>\n",
        "c) All elements of the list and start with 2"
      ]
    },
    {
      "cell_type": "code",
      "metadata": {
        "id": "jwPrgWBc5OTX"
      },
      "source": [
        "list1 = [2,1,4,3,8,5,6,7,10,9]"
      ],
      "execution_count": 8,
      "outputs": []
    },
    {
      "cell_type": "code",
      "metadata": {
        "id": "3BC5wjNCjQEi",
        "colab": {
          "base_uri": "https://localhost:8080/",
          "height": 0
        },
        "outputId": "3f0db2a8-9705-41a9-f844-0a4d230ee8d3"
      },
      "source": [
        "print(sum(list1))\n"
      ],
      "execution_count": 9,
      "outputs": [
        {
          "output_type": "stream",
          "text": [
            "55\n"
          ],
          "name": "stdout"
        }
      ]
    },
    {
      "cell_type": "code",
      "metadata": {
        "id": "0KYg38kljP2d"
      },
      "source": [
        ""
      ],
      "execution_count": null,
      "outputs": []
    },
    {
      "cell_type": "code",
      "metadata": {
        "colab": {
          "base_uri": "https://localhost:8080/",
          "height": 0
        },
        "id": "RI7G5r7rhItH",
        "outputId": "6e35008a-9fe5-4926-8bc7-95a90446828b"
      },
      "source": [
        "\n",
        "print(sum(list1[1:]))"
      ],
      "execution_count": 10,
      "outputs": [
        {
          "output_type": "stream",
          "text": [
            "53\n"
          ],
          "name": "stdout"
        }
      ]
    },
    {
      "cell_type": "code",
      "metadata": {
        "id": "Xzf9iDLWjPtV"
      },
      "source": [
        ""
      ],
      "execution_count": 10,
      "outputs": []
    },
    {
      "cell_type": "code",
      "metadata": {
        "colab": {
          "base_uri": "https://localhost:8080/",
          "height": 0
        },
        "id": "02Pwj-OuhO3X",
        "outputId": "a2032765-9511-4c22-cd81-3720deeae781"
      },
      "source": [
        "\n",
        "print(sum(list1, 2))"
      ],
      "execution_count": 11,
      "outputs": [
        {
          "output_type": "stream",
          "text": [
            "57\n"
          ],
          "name": "stdout"
        }
      ]
    },
    {
      "cell_type": "markdown",
      "metadata": {
        "id": "mTnOhy5yceub"
      },
      "source": [
        "**Bonus Stuff**"
      ]
    },
    {
      "cell_type": "code",
      "metadata": {
        "id": "vFI8-Xjob6Rc",
        "colab": {
          "base_uri": "https://localhost:8080/",
          "height": 0
        },
        "outputId": "1e88c6d2-fc9b-417e-c50e-3de2e80f146f"
      },
      "source": [
        "# Run this code (ctrl/cmd + Enter) and see the output\n",
        "i = 10\n",
        "j = 10\n",
        "print(i == j)\n",
        "print(i is j)"
      ],
      "execution_count": 15,
      "outputs": [
        {
          "output_type": "stream",
          "text": [
            "True\n",
            "True\n"
          ],
          "name": "stdout"
        }
      ]
    },
    {
      "cell_type": "code",
      "metadata": {
        "id": "g4unJERvcCdg",
        "colab": {
          "base_uri": "https://localhost:8080/",
          "height": 0
        },
        "outputId": "fce0e01c-9e15-4ddc-8ccf-d6de676094c0"
      },
      "source": [
        "# Now run this code and compare it with previous output\n",
        "list1 = [1,2,3]\n",
        "list2 = [1,2,3]\n",
        "list3 = list2\n",
        "print(list1 == list2)\n",
        "print(list1[1] is list2[1])\n",
        "print(list1 is list2)\n",
        "print(list3 is list2)"
      ],
      "execution_count": 14,
      "outputs": [
        {
          "output_type": "stream",
          "text": [
            "True\n",
            "True\n",
            "False\n",
            "True\n"
          ],
          "name": "stdout"
        }
      ]
    },
    {
      "cell_type": "code",
      "metadata": {
        "id": "B0a6fL7djLvA"
      },
      "source": [
        ""
      ],
      "execution_count": null,
      "outputs": []
    },
    {
      "cell_type": "code",
      "metadata": {
        "id": "OF83TZZAjLqx"
      },
      "source": [
        ""
      ],
      "execution_count": null,
      "outputs": []
    },
    {
      "cell_type": "code",
      "metadata": {
        "id": "xNHRQOrJjLn0"
      },
      "source": [
        ""
      ],
      "execution_count": null,
      "outputs": []
    },
    {
      "cell_type": "code",
      "metadata": {
        "id": "dQFoMlnEjLlK"
      },
      "source": [
        ""
      ],
      "execution_count": null,
      "outputs": []
    },
    {
      "cell_type": "code",
      "metadata": {
        "id": "f-j5-6WejLiM"
      },
      "source": [
        ""
      ],
      "execution_count": null,
      "outputs": []
    },
    {
      "cell_type": "code",
      "metadata": {
        "id": "2aOBEjuijLfJ"
      },
      "source": [
        ""
      ],
      "execution_count": null,
      "outputs": []
    },
    {
      "cell_type": "code",
      "metadata": {
        "id": "ixnOfO-cjLcF"
      },
      "source": [
        ""
      ],
      "execution_count": null,
      "outputs": []
    },
    {
      "cell_type": "code",
      "metadata": {
        "id": "nOoSHVe_jLYr"
      },
      "source": [
        ""
      ],
      "execution_count": null,
      "outputs": []
    },
    {
      "cell_type": "code",
      "metadata": {
        "id": "FefNwmJ8jLWX"
      },
      "source": [
        ""
      ],
      "execution_count": null,
      "outputs": []
    },
    {
      "cell_type": "markdown",
      "metadata": {
        "id": "vWWrzFZMeAaH"
      },
      "source": [
        "**Answers**"
      ]
    },
    {
      "cell_type": "code",
      "metadata": {
        "id": "OzkwbsnXeDp3"
      },
      "source": [
        "#@title\n",
        "#Basic input & output\n",
        "#Q1\n",
        "name = input(\"What is your good name? \")\n",
        "print(\"Namaste\", name)\n",
        "\n",
        "#Q2\n",
        "sport = input(\"What is your favourite sport? \")\n",
        "player = input(\"Who is your favourite player? \")\n",
        "print(\"you like {} and {}\".format(sport,player))\n",
        "print(f\"you like {sport} and {player}\")\n",
        "\n",
        "\n",
        "# Operators\n",
        "#Q1\n",
        "num1 = int(input(\"enter first number \"))\n",
        "num2 = int(input(\"enter second number \"))\n",
        "print(\"sum is {} \\ndifference is {} \\nmultiplication is {} \\ndivision is {} \\nmodulus is {} \\nfloor division is {}\".format(num1+num2, num1-num2, num1*num2, num1/num2, num1%num2, num1//num2))\n",
        "\n",
        "#Q2\n",
        "num1 = int(input(\"enter first number \"))\n",
        "num2 = int(input(\"enter second number \"))\n",
        "sq_num1 = num1**2\n",
        "sq_num2 = num2**2\n",
        "print(\"sum is {} \\ndifference is {} \\nmultiplication is {} \\ndivision is {} \\nmodulus is {} \\nfloor division is {}\".format(sq_num1+sq_num2, sq_num1-sq_num2, sq_num1*sq_num2, sq_num1/sq_num2, sq_num1%sq_num2, sq_num1//sq_num2))\n",
        "\n",
        "\n",
        "# Some useful function\n",
        "#Q1\n",
        "a, b, c = int(input()), int(input()), int(input())\n",
        "print(max(a,b,c), \"\\n\", min(a,b,c))\n",
        "\n",
        "#Q2\n",
        "print(sum(list1))\n",
        "print(sum(list1[1:]))\n",
        "print(sum(list1, 2))"
      ],
      "execution_count": null,
      "outputs": []
    }
  ]
}