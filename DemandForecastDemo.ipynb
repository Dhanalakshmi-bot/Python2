{
  "nbformat": 4,
  "nbformat_minor": 0,
  "metadata": {
    "colab": {
      "name": "DemandForecastDemo.ipynb",
      "provenance": []
    },
    "kernelspec": {
      "name": "python3",
      "display_name": "Python 3"
    },
    "language_info": {
      "name": "python"
    }
  },
  "cells": [
    {
      "cell_type": "code",
      "source": [
        "pip install jsonpath_ng"
      ],
      "metadata": {
        "colab": {
          "base_uri": "https://localhost:8080/"
        },
        "id": "-AcvqwFutZtS",
        "outputId": "007a2293-177e-4b33-a1de-ac1f2bb4b1f7"
      },
      "execution_count": null,
      "outputs": [
        {
          "output_type": "stream",
          "name": "stdout",
          "text": [
            "Looking in indexes: https://pypi.org/simple, https://us-python.pkg.dev/colab-wheels/public/simple/\n",
            "Collecting jsonpath_ng\n",
            "  Downloading jsonpath_ng-1.5.3-py3-none-any.whl (29 kB)\n",
            "Requirement already satisfied: six in /usr/local/lib/python3.7/dist-packages (from jsonpath_ng) (1.15.0)\n",
            "Requirement already satisfied: decorator in /usr/local/lib/python3.7/dist-packages (from jsonpath_ng) (4.4.2)\n",
            "Collecting ply\n",
            "  Downloading ply-3.11-py2.py3-none-any.whl (49 kB)\n",
            "\u001b[K     |████████████████████████████████| 49 kB 5.0 MB/s \n",
            "\u001b[?25hInstalling collected packages: ply, jsonpath-ng\n",
            "Successfully installed jsonpath-ng-1.5.3 ply-3.11\n"
          ]
        }
      ]
    },
    {
      "cell_type": "code",
      "source": [
        "import requests\n",
        "from requests.auth import HTTPDigestAuth\n",
        "import json\n",
        "from jsonpath_ng import jsonpath, parse\n",
        "import time\n",
        "import pandas as pd\n",
        "from pandas import read_csv\n",
        "import csv\n",
        "from datetime import datetime as pdt,timedelta, date\n",
        "import os\n",
        "import matplotlib as inline\n",
        "import datetime\n",
        "import configparser\n",
        "import sys\n",
        "import shutil"
      ],
      "metadata": {
        "id": "6WEIQoGwaXCx"
      },
      "execution_count": null,
      "outputs": []
    },
    {
      "cell_type": "code",
      "source": [
        "pip install nyoka"
      ],
      "metadata": {
        "colab": {
          "base_uri": "https://localhost:8080/"
        },
        "id": "Ao68b8rouJ99",
        "outputId": "89832442-4ea0-4736-eee8-bb44ac7ea61d"
      },
      "execution_count": null,
      "outputs": [
        {
          "output_type": "stream",
          "name": "stdout",
          "text": [
            "Looking in indexes: https://pypi.org/simple, https://us-python.pkg.dev/colab-wheels/public/simple/\n",
            "Collecting nyoka\n",
            "  Downloading nyoka-5.3.0-py3-none-any.whl (301 kB)\n",
            "\u001b[K     |████████████████████████████████| 301 kB 11.4 MB/s \n",
            "\u001b[?25hRequirement already satisfied: lxml in /usr/local/lib/python3.7/dist-packages (from nyoka) (4.2.6)\n",
            "Installing collected packages: nyoka\n",
            "Successfully installed nyoka-5.3.0\n"
          ]
        }
      ]
    },
    {
      "cell_type": "code",
      "source": [
        "config = configparser.ConfigParser()\n",
        "config.read('/content/CONFIG.INI')\n",
        "tenant_url =config['cumulocity']['c_url']\n",
        "user_name=config['cumulocity']['c_user']\n",
        "password=config['cumulocity']['c_pass']\n",
        "tz_zone_info='0530'\n",
        "\n",
        "deviceID=config['cumulocity']['c_device_source']"
      ],
      "metadata": {
        "id": "o21Hc8xkafHE"
      },
      "execution_count": null,
      "outputs": []
    },
    {
      "cell_type": "code",
      "source": [
        "%%bash\n",
        "c_url=$(awk -F \"=\" '/c_url/ {print $2}' ./CONFIG.INI)\n",
        "c_user=$(awk -F \"=\" '/c_user/ {print $2}' ./CONFIG.INI)\n",
        "c_pass=$(awk -F \"=\" '/c_pass/ {print $2}' ./CONFIG.INI)\n",
        "echo\n",
        "echo \"#####################################\"\n",
        "echo \"#    Registering new demo device    #\"\n",
        "echo \"#####################################\"\n",
        "curl --user ${c_user}:${c_pass} -X POST \"${c_url}/inventory/managedObjects\" -H \"accept: application/json\" -H \"Content-Type: application/json\" \\\n",
        "--data '{\"name\": \"DemandForecastDemoDevice\", \"c8y_IsDevice\": {}, \"myDemoDevice\":{}, \"c8y_SupportedMeasurements\": [\"c8y_Flow\"]}'\n",
        "echo\n",
        "echo\n",
        "echo \"##############################################################################################################\"\n",
        "echo \"#  Registered a demo device with the name 'DemandForecastDemoDevice' and its measurement 'c8y_Flow'#\"\n",
        "echo \"##############################################################################################################\"\n"
      ],
      "metadata": {
        "id": "DL3KquXbam-r",
        "colab": {
          "base_uri": "https://localhost:8080/"
        },
        "outputId": "2032a071-6c13-4a07-a5bc-4b4ef915bfb8"
      },
      "execution_count": null,
      "outputs": [
        {
          "output_type": "stream",
          "name": "stdout",
          "text": [
            "\n",
            "#####################################\n",
            "#    Registering new demo device    #\n",
            "#####################################\n",
            "{\"additionParents\":{\"references\":[],\"self\":\"https://env166741.us.cumulocity.com/inventory/managedObjects/7101/additionParents\"},\"owner\":\"dhana.gog@alumni.iitd.ac.in\",\"childDevices\":{\"references\":[],\"self\":\"https://env166741.us.cumulocity.com/inventory/managedObjects/7101/childDevices\"},\"childAssets\":{\"references\":[],\"self\":\"https://env166741.us.cumulocity.com/inventory/managedObjects/7101/childAssets\"},\"creationTime\":\"2022-07-26T09:23:56.091Z\",\"lastUpdated\":\"2022-07-26T09:23:56.091Z\",\"childAdditions\":{\"references\":[],\"self\":\"https://env166741.us.cumulocity.com/inventory/managedObjects/7101/childAdditions\"},\"name\":\"DemandForecastDemoDevice\",\"assetParents\":{\"references\":[],\"self\":\"https://env166741.us.cumulocity.com/inventory/managedObjects/7101/assetParents\"},\"deviceParents\":{\"references\":[],\"self\":\"https://env166741.us.cumulocity.com/inventory/managedObjects/7101/deviceParents\"},\"self\":\"https://env166741.us.cumulocity.com/inventory/managedObjects/7101\",\"id\":\"7101\",\"c8y_IsDevice\":{},\"myDemoDevice\":{},\"c8y_SupportedMeasurements\":[\"c8y_Flow\"]}\n",
            "\n",
            "##############################################################################################################\n",
            "#  Registered a demo device with the name 'DemandForecastDemoDevice' and its measurement 'c8y_Flow'#\n",
            "##############################################################################################################\n"
          ]
        },
        {
          "output_type": "stream",
          "name": "stderr",
          "text": [
            "  % Total    % Received % Xferd  Average Speed   Time    Time     Time  Current\n",
            "                                 Dload  Upload   Total   Spent    Left  Speed\n",
            "\r  0     0    0     0    0     0      0      0 --:--:-- --:--:-- --:--:--     0\r100  1174  100  1056  100   118   1955    218 --:--:-- --:--:-- --:--:--  2174\n"
          ]
        }
      ]
    },
    {
      "cell_type": "code",
      "source": [
        "%%bash\n",
        "input=\"/content/forecastoutput_01.csv\"\n",
        "c_url=$(awk -F \"=\" '/c_url/ {print $2}' ./CONFIG.INI)\n",
        "c_user=$(awk -F \"=\" '/c_user/ {print $2}' ./CONFIG.INI)\n",
        "c_pass=$(awk -F \"=\" '/c_pass/ {print $2}' ./CONFIG.INI)\n",
        "c_device_source=$(awk -F \"=\" '/c_device_source/ {print $2}' ./CONFIG.INI)\n",
        "\n",
        "tail -n +2 \"$input\" | while IFS=',' read -r f1 f2\n",
        "do \n",
        "\tdt=$f1\n",
        "\tval=$f2\n",
        "\tdate=\"${dt}+05:30\"\n",
        "\ttm=${date:11}\n",
        "\tdtt=${date:0:10}\n",
        "\tstrdt=\"${dtt}T${tm}\"\n",
        "\t#echo '{\"measurements\":[{\"time\": \"'$strdt'\",\"source\": {\"id\": \"'$c_device_source'\"},\"type\": \"c8y_Flow\",\"c8y_Flow\": {\"F\": {\"unit\": \"psi\",\"value\": '$val'}}}]}'\n",
        "\tcurl --user $c_user:$c_pass -X POST $c_url\"/measurement/measurements\" -H \"accept: application/vnd.com.nsn.cumulocity.measurementCollection+json\" -H \"Content-Type: application/json\" --data '{\"measurements\":[{\"time\": \"'$strdt'\",\"source\": {\"id\": \"'$c_device_source'\"},\"type\": \"Flow_Forecast_Data\",\"Flow_Forecast_Data\": {\"F\": {\"unit\": \"psi\",\"value\": '$val'}}}]}'\n",
        "done "
      ],
      "metadata": {
        "colab": {
          "base_uri": "https://localhost:8080/"
        },
        "id": "bplcNa4CcMPv",
        "outputId": "c47813cf-58dd-4284-f8fc-f7c3bd92bbdf"
      },
      "execution_count": null,
      "outputs": [
        {
          "output_type": "stream",
          "name": "stdout",
          "text": [
            "{\"error\":\"general/internalError\",\"message\":\"Could not parse JSON request: \",\"info\":\"https://www.cumulocity.com/guides/reference-guide/#a-name-error-reporting-a-error-reporting\"}{\"error\":\"general/internalError\",\"message\":\"Could not parse JSON request: \",\"info\":\"https://www.cumulocity.com/guides/reference-guide/#a-name-error-reporting-a-error-reporting\"}{\"error\":\"general/internalError\",\"message\":\"Could not parse JSON request: \",\"info\":\"https://www.cumulocity.com/guides/reference-guide/#a-name-error-reporting-a-error-reporting\"}{\"error\":\"general/internalError\",\"message\":\"Could not parse JSON request: \",\"info\":\"https://www.cumulocity.com/guides/reference-guide/#a-name-error-reporting-a-error-reporting\"}{\"error\":\"general/internalError\",\"message\":\"Could not parse JSON request: \",\"info\":\"https://www.cumulocity.com/guides/reference-guide/#a-name-error-reporting-a-error-reporting\"}{\"error\":\"general/internalError\",\"message\":\"Could not parse JSON request: \",\"info\":\"https://www.cumulocity.com/guides/reference-guide/#a-name-error-reporting-a-error-reporting\"}{\"error\":\"general/internalError\",\"message\":\"Could not parse JSON request: \",\"info\":\"https://www.cumulocity.com/guides/reference-guide/#a-name-error-reporting-a-error-reporting\"}{\"error\":\"general/internalError\",\"message\":\"Could not parse JSON request: \",\"info\":\"https://www.cumulocity.com/guides/reference-guide/#a-name-error-reporting-a-error-reporting\"}{\"error\":\"general/internalError\",\"message\":\"Could not parse JSON request: \",\"info\":\"https://www.cumulocity.com/guides/reference-guide/#a-name-error-reporting-a-error-reporting\"}{\"error\":\"general/internalError\",\"message\":\"Could not parse JSON request: \",\"info\":\"https://www.cumulocity.com/guides/reference-guide/#a-name-error-reporting-a-error-reporting\"}{\"error\":\"general/internalError\",\"message\":\"Could not parse JSON request: \",\"info\":\"https://www.cumulocity.com/guides/reference-guide/#a-name-error-reporting-a-error-reporting\"}{\"error\":\"general/internalError\",\"message\":\"Could not parse JSON request: \",\"info\":\"https://www.cumulocity.com/guides/reference-guide/#a-name-error-reporting-a-error-reporting\"}{\"error\":\"general/internalError\",\"message\":\"Could not parse JSON request: \",\"info\":\"https://www.cumulocity.com/guides/reference-guide/#a-name-error-reporting-a-error-reporting\"}{\"error\":\"general/internalError\",\"message\":\"Could not parse JSON request: \",\"info\":\"https://www.cumulocity.com/guides/reference-guide/#a-name-error-reporting-a-error-reporting\"}{\"error\":\"general/internalError\",\"message\":\"Could not parse JSON request: \",\"info\":\"https://www.cumulocity.com/guides/reference-guide/#a-name-error-reporting-a-error-reporting\"}{\"error\":\"general/internalError\",\"message\":\"Could not parse JSON request: \",\"info\":\"https://www.cumulocity.com/guides/reference-guide/#a-name-error-reporting-a-error-reporting\"}{\"error\":\"general/internalError\",\"message\":\"Could not parse JSON request: \",\"info\":\"https://www.cumulocity.com/guides/reference-guide/#a-name-error-reporting-a-error-reporting\"}{\"error\":\"general/internalError\",\"message\":\"Could not parse JSON request: \",\"info\":\"https://www.cumulocity.com/guides/reference-guide/#a-name-error-reporting-a-error-reporting\"}{\"error\":\"general/internalError\",\"message\":\"Could not parse JSON request: \",\"info\":\"https://www.cumulocity.com/guides/reference-guide/#a-name-error-reporting-a-error-reporting\"}{\"error\":\"general/internalError\",\"message\":\"Could not parse JSON request: \",\"info\":\"https://www.cumulocity.com/guides/reference-guide/#a-name-error-reporting-a-error-reporting\"}{\"error\":\"general/internalError\",\"message\":\"Could not parse JSON request: \",\"info\":\"https://www.cumulocity.com/guides/reference-guide/#a-name-error-reporting-a-error-reporting\"}{\"error\":\"general/internalError\",\"message\":\"Could not parse JSON request: \",\"info\":\"https://www.cumulocity.com/guides/reference-guide/#a-name-error-reporting-a-error-reporting\"}{\"error\":\"general/internalError\",\"message\":\"Could not parse JSON request: \",\"info\":\"https://www.cumulocity.com/guides/reference-guide/#a-name-error-reporting-a-error-reporting\"}{\"error\":\"general/internalError\",\"message\":\"Could not parse JSON request: \",\"info\":\"https://www.cumulocity.com/guides/reference-guide/#a-name-error-reporting-a-error-reporting\"}{\"error\":\"general/internalError\",\"message\":\"Could not parse JSON request: \",\"info\":\"https://www.cumulocity.com/guides/reference-guide/#a-name-error-reporting-a-error-reporting\"}{\"error\":\"general/internalError\",\"message\":\"Could not parse JSON request: \",\"info\":\"https://www.cumulocity.com/guides/reference-guide/#a-name-error-reporting-a-error-reporting\"}{\"error\":\"general/internalError\",\"message\":\"Could not parse JSON request: \",\"info\":\"https://www.cumulocity.com/guides/reference-guide/#a-name-error-reporting-a-error-reporting\"}{\"error\":\"general/internalError\",\"message\":\"Could not parse JSON request: \",\"info\":\"https://www.cumulocity.com/guides/reference-guide/#a-name-error-reporting-a-error-reporting\"}{\"error\":\"general/internalError\",\"message\":\"Could not parse JSON request: \",\"info\":\"https://www.cumulocity.com/guides/reference-guide/#a-name-error-reporting-a-error-reporting\"}{\"error\":\"general/internalError\",\"message\":\"Could not parse JSON request: \",\"info\":\"https://www.cumulocity.com/guides/reference-guide/#a-name-error-reporting-a-error-reporting\"}{\"error\":\"general/internalError\",\"message\":\"Could not parse JSON request: \",\"info\":\"https://www.cumulocity.com/guides/reference-guide/#a-name-error-reporting-a-error-reporting\"}{\"error\":\"general/internalError\",\"message\":\"Could not parse JSON request: \",\"info\":\"https://www.cumulocity.com/guides/reference-guide/#a-name-error-reporting-a-error-reporting\"}{\"error\":\"general/internalError\",\"message\":\"Could not parse JSON request: \",\"info\":\"https://www.cumulocity.com/guides/reference-guide/#a-name-error-reporting-a-error-reporting\"}{\"error\":\"general/internalError\",\"message\":\"Could not parse JSON request: \",\"info\":\"https://www.cumulocity.com/guides/reference-guide/#a-name-error-reporting-a-error-reporting\"}{\"error\":\"general/internalError\",\"message\":\"Could not parse JSON request: \",\"info\":\"https://www.cumulocity.com/guides/reference-guide/#a-name-error-reporting-a-error-reporting\"}{\"error\":\"general/internalError\",\"message\":\"Could not parse JSON request: \",\"info\":\"https://www.cumulocity.com/guides/reference-guide/#a-name-error-reporting-a-error-reporting\"}{\"error\":\"general/internalError\",\"message\":\"Could not parse JSON request: \",\"info\":\"https://www.cumulocity.com/guides/reference-guide/#a-name-error-reporting-a-error-reporting\"}{\"error\":\"general/internalError\",\"message\":\"Could not parse JSON request: \",\"info\":\"https://www.cumulocity.com/guides/reference-guide/#a-name-error-reporting-a-error-reporting\"}{\"error\":\"general/internalError\",\"message\":\"Could not parse JSON request: \",\"info\":\"https://www.cumulocity.com/guides/reference-guide/#a-name-error-reporting-a-error-reporting\"}{\"error\":\"general/internalError\",\"message\":\"Could not parse JSON request: \",\"info\":\"https://www.cumulocity.com/guides/reference-guide/#a-name-error-reporting-a-error-reporting\"}{\"error\":\"general/internalError\",\"message\":\"Could not parse JSON request: \",\"info\":\"https://www.cumulocity.com/guides/reference-guide/#a-name-error-reporting-a-error-reporting\"}{\"error\":\"general/internalError\",\"message\":\"Could not parse JSON request: \",\"info\":\"https://www.cumulocity.com/guides/reference-guide/#a-name-error-reporting-a-error-reporting\"}{\"error\":\"general/internalError\",\"message\":\"Could not parse JSON request: \",\"info\":\"https://www.cumulocity.com/guides/reference-guide/#a-name-error-reporting-a-error-reporting\"}{\"error\":\"general/internalError\",\"message\":\"Could not parse JSON request: \",\"info\":\"https://www.cumulocity.com/guides/reference-guide/#a-name-error-reporting-a-error-reporting\"}{\"error\":\"general/internalError\",\"message\":\"Could not parse JSON request: \",\"info\":\"https://www.cumulocity.com/guides/reference-guide/#a-name-error-reporting-a-error-reporting\"}{\"error\":\"general/internalError\",\"message\":\"Could not parse JSON request: \",\"info\":\"https://www.cumulocity.com/guides/reference-guide/#a-name-error-reporting-a-error-reporting\"}{\"error\":\"general/internalError\",\"message\":\"Could not parse JSON request: \",\"info\":\"https://www.cumulocity.com/guides/reference-guide/#a-name-error-reporting-a-error-reporting\"}{\"error\":\"general/internalError\",\"message\":\"Could not parse JSON request: \",\"info\":\"https://www.cumulocity.com/guides/reference-guide/#a-name-error-reporting-a-error-reporting\"}{\"error\":\"general/internalError\",\"message\":\"Could not parse JSON request: \",\"info\":\"https://www.cumulocity.com/guides/reference-guide/#a-name-error-reporting-a-error-reporting\"}{\"error\":\"general/internalError\",\"message\":\"Could not parse JSON request: \",\"info\":\"https://www.cumulocity.com/guides/reference-guide/#a-name-error-reporting-a-error-reporting\"}{\"error\":\"general/internalError\",\"message\":\"Could not parse JSON request: \",\"info\":\"https://www.cumulocity.com/guides/reference-guide/#a-name-error-reporting-a-error-reporting\"}{\"error\":\"general/internalError\",\"message\":\"Could not parse JSON request: \",\"info\":\"https://www.cumulocity.com/guides/reference-guide/#a-name-error-reporting-a-error-reporting\"}{\"error\":\"general/internalError\",\"message\":\"Could not parse JSON request: \",\"info\":\"https://www.cumulocity.com/guides/reference-guide/#a-name-error-reporting-a-error-reporting\"}{\"error\":\"general/internalError\",\"message\":\"Could not parse JSON request: \",\"info\":\"https://www.cumulocity.com/guides/reference-guide/#a-name-error-reporting-a-error-reporting\"}{\"error\":\"general/internalError\",\"message\":\"Could not parse JSON request: \",\"info\":\"https://www.cumulocity.com/guides/reference-guide/#a-name-error-reporting-a-error-reporting\"}{\"error\":\"general/internalError\",\"message\":\"Could not parse JSON request: \",\"info\":\"https://www.cumulocity.com/guides/reference-guide/#a-name-error-reporting-a-error-reporting\"}{\"error\":\"general/internalError\",\"message\":\"Could not parse JSON request: \",\"info\":\"https://www.cumulocity.com/guides/reference-guide/#a-name-error-reporting-a-error-reporting\"}{\"error\":\"general/internalError\",\"message\":\"Could not parse JSON request: \",\"info\":\"https://www.cumulocity.com/guides/reference-guide/#a-name-error-reporting-a-error-reporting\"}{\"error\":\"general/internalError\",\"message\":\"Could not parse JSON request: \",\"info\":\"https://www.cumulocity.com/guides/reference-guide/#a-name-error-reporting-a-error-reporting\"}{\"error\":\"general/internalError\",\"message\":\"Could not parse JSON request: \",\"info\":\"https://www.cumulocity.com/guides/reference-guide/#a-name-error-reporting-a-error-reporting\"}{\"error\":\"general/internalError\",\"message\":\"Could not parse JSON request: \",\"info\":\"https://www.cumulocity.com/guides/reference-guide/#a-name-error-reporting-a-error-reporting\"}{\"error\":\"general/internalError\",\"message\":\"Could not parse JSON request: \",\"info\":\"https://www.cumulocity.com/guides/reference-guide/#a-name-error-reporting-a-error-reporting\"}{\"error\":\"general/internalError\",\"message\":\"Could not parse JSON request: \",\"info\":\"https://www.cumulocity.com/guides/reference-guide/#a-name-error-reporting-a-error-reporting\"}{\"error\":\"general/internalError\",\"message\":\"Could not parse JSON request: \",\"info\":\"https://www.cumulocity.com/guides/reference-guide/#a-name-error-reporting-a-error-reporting\"}{\"error\":\"general/internalError\",\"message\":\"Could not parse JSON request: \",\"info\":\"https://www.cumulocity.com/guides/reference-guide/#a-name-error-reporting-a-error-reporting\"}{\"error\":\"general/internalError\",\"message\":\"Could not parse JSON request: \",\"info\":\"https://www.cumulocity.com/guides/reference-guide/#a-name-error-reporting-a-error-reporting\"}{\"error\":\"general/internalError\",\"message\":\"Could not parse JSON request: \",\"info\":\"https://www.cumulocity.com/guides/reference-guide/#a-name-error-reporting-a-error-reporting\"}{\"error\":\"general/internalError\",\"message\":\"Could not parse JSON request: \",\"info\":\"https://www.cumulocity.com/guides/reference-guide/#a-name-error-reporting-a-error-reporting\"}{\"error\":\"general/internalError\",\"message\":\"Could not parse JSON request: \",\"info\":\"https://www.cumulocity.com/guides/reference-guide/#a-name-error-reporting-a-error-reporting\"}{\"error\":\"general/internalError\",\"message\":\"Could not parse JSON request: \",\"info\":\"https://www.cumulocity.com/guides/reference-guide/#a-name-error-reporting-a-error-reporting\"}{\"error\":\"general/internalError\",\"message\":\"Could not parse JSON request: \",\"info\":\"https://www.cumulocity.com/guides/reference-guide/#a-name-error-reporting-a-error-reporting\"}{\"error\":\"general/internalError\",\"message\":\"Could not parse JSON request: \",\"info\":\"https://www.cumulocity.com/guides/reference-guide/#a-name-error-reporting-a-error-reporting\"}{\"error\":\"general/internalError\",\"message\":\"Could not parse JSON request: \",\"info\":\"https://www.cumulocity.com/guides/reference-guide/#a-name-error-reporting-a-error-reporting\"}{\"error\":\"general/internalError\",\"message\":\"Could not parse JSON request: \",\"info\":\"https://www.cumulocity.com/guides/reference-guide/#a-name-error-reporting-a-error-reporting\"}{\"error\":\"general/internalError\",\"message\":\"Could not parse JSON request: \",\"info\":\"https://www.cumulocity.com/guides/reference-guide/#a-name-error-reporting-a-error-reporting\"}{\"error\":\"general/internalError\",\"message\":\"Could not parse JSON request: \",\"info\":\"https://www.cumulocity.com/guides/reference-guide/#a-name-error-reporting-a-error-reporting\"}{\"error\":\"general/internalError\",\"message\":\"Could not parse JSON request: \",\"info\":\"https://www.cumulocity.com/guides/reference-guide/#a-name-error-reporting-a-error-reporting\"}{\"error\":\"general/internalError\",\"message\":\"Could not parse JSON request: \",\"info\":\"https://www.cumulocity.com/guides/reference-guide/#a-name-error-reporting-a-error-reporting\"}{\"error\":\"general/internalError\",\"message\":\"Could not parse JSON request: \",\"info\":\"https://www.cumulocity.com/guides/reference-guide/#a-name-error-reporting-a-error-reporting\"}{\"error\":\"general/internalError\",\"message\":\"Could not parse JSON request: \",\"info\":\"https://www.cumulocity.com/guides/reference-guide/#a-name-error-reporting-a-error-reporting\"}{\"error\":\"general/internalError\",\"message\":\"Could not parse JSON request: \",\"info\":\"https://www.cumulocity.com/guides/reference-guide/#a-name-error-reporting-a-error-reporting\"}{\"error\":\"general/internalError\",\"message\":\"Could not parse JSON request: \",\"info\":\"https://www.cumulocity.com/guides/reference-guide/#a-name-error-reporting-a-error-reporting\"}{\"error\":\"general/internalError\",\"message\":\"Could not parse JSON request: \",\"info\":\"https://www.cumulocity.com/guides/reference-guide/#a-name-error-reporting-a-error-reporting\"}{\"error\":\"general/internalError\",\"message\":\"Could not parse JSON request: \",\"info\":\"https://www.cumulocity.com/guides/reference-guide/#a-name-error-reporting-a-error-reporting\"}"
          ]
        },
        {
          "output_type": "stream",
          "name": "stderr",
          "text": [
            "  % Total    % Received % Xferd  Average Speed   Time    Time     Time  Current\n",
            "                                 Dload  Upload   Total   Spent    Left  Speed\n",
            "\r  0     0    0     0    0     0      0      0 --:--:-- --:--:-- --:--:--     0\r  0     0    0     0    0     0      0      0 --:--:-- --:--:-- --:--:--     0\r100   212  100   177  100    35    361     71 --:--:-- --:--:-- --:--:--   431\n",
            "curl: (3) [globbing] nested brace in column 94\n",
            "  % Total    % Received % Xferd  Average Speed   Time    Time     Time  Current\n",
            "                                 Dload  Upload   Total   Spent    Left  Speed\n",
            "\r  0     0    0     0    0     0      0      0 --:--:-- --:--:-- --:--:--     0\r100   212  100   177  100    35    384     76 --:--:-- --:--:-- --:--:--   460\n",
            "curl: (3) [globbing] nested brace in column 94\n",
            "  % Total    % Received % Xferd  Average Speed   Time    Time     Time  Current\n",
            "                                 Dload  Upload   Total   Spent    Left  Speed\n",
            "\r  0     0    0     0    0     0      0      0 --:--:-- --:--:-- --:--:--     0\r  0     0    0     0    0     0      0      0 --:--:-- --:--:-- --:--:--     0\r100   212  100   177  100    35    409     81 --:--:-- --:--:-- --:--:--   489\n",
            "curl: (3) [globbing] nested brace in column 94\n",
            "  % Total    % Received % Xferd  Average Speed   Time    Time     Time  Current\n",
            "                                 Dload  Upload   Total   Spent    Left  Speed\n",
            "\r  0     0    0     0    0     0      0      0 --:--:-- --:--:-- --:--:--     0\r100   212  100   177  100    35    418     82 --:--:-- --:--:-- --:--:--   501\n",
            "curl: (3) [globbing] nested brace in column 94\n",
            "  % Total    % Received % Xferd  Average Speed   Time    Time     Time  Current\n",
            "                                 Dload  Upload   Total   Spent    Left  Speed\n",
            "\r  0     0    0     0    0     0      0      0 --:--:-- --:--:-- --:--:--     0\r  0     0    0     0    0     0      0      0 --:--:-- --:--:-- --:--:--     0\r100   212  100   177  100    35    427     84 --:--:-- --:--:-- --:--:--   510\n",
            "curl: (3) [globbing] nested brace in column 94\n",
            "  % Total    % Received % Xferd  Average Speed   Time    Time     Time  Current\n",
            "                                 Dload  Upload   Total   Spent    Left  Speed\n",
            "\r  0     0    0     0    0     0      0      0 --:--:-- --:--:-- --:--:--     0\r100   212  100   177  100    35    423     83 --:--:-- --:--:-- --:--:--   507\n",
            "curl: (3) [globbing] nested brace in column 95\n",
            "  % Total    % Received % Xferd  Average Speed   Time    Time     Time  Current\n",
            "                                 Dload  Upload   Total   Spent    Left  Speed\n",
            "\r  0     0    0     0    0     0      0      0 --:--:-- --:--:-- --:--:--     0\r100    35    0     0  100    35      0     84 --:--:-- --:--:-- --:--:--    84\r100   212  100   177  100    35    423     83 --:--:-- --:--:-- --:--:--   505\n",
            "curl: (3) [globbing] nested brace in column 95\n",
            "  % Total    % Received % Xferd  Average Speed   Time    Time     Time  Current\n",
            "                                 Dload  Upload   Total   Spent    Left  Speed\n",
            "\r  0     0    0     0    0     0      0      0 --:--:-- --:--:-- --:--:--     0\r100   212  100   177  100    35    407     80 --:--:-- --:--:-- --:--:--   488\n",
            "curl: (3) [globbing] nested brace in column 95\n",
            "  % Total    % Received % Xferd  Average Speed   Time    Time     Time  Current\n",
            "                                 Dload  Upload   Total   Spent    Left  Speed\n",
            "\r  0     0    0     0    0     0      0      0 --:--:-- --:--:-- --:--:--     0\r100   212  100   177  100    35    423     83 --:--:-- --:--:-- --:--:--   508\n",
            "curl: (3) [globbing] nested brace in column 95\n",
            "  % Total    % Received % Xferd  Average Speed   Time    Time     Time  Current\n",
            "                                 Dload  Upload   Total   Spent    Left  Speed\n",
            "\r  0     0    0     0    0     0      0      0 --:--:-- --:--:-- --:--:--     0\r100   212  100   177  100    35    426     84 --:--:-- --:--:-- --:--:--   510\n",
            "curl: (3) [globbing] nested brace in column 95\n",
            "  % Total    % Received % Xferd  Average Speed   Time    Time     Time  Current\n",
            "                                 Dload  Upload   Total   Spent    Left  Speed\n",
            "\r  0     0    0     0    0     0      0      0 --:--:-- --:--:-- --:--:--     0\r100   212  100   177  100    35    426     84 --:--:-- --:--:-- --:--:--   510\n",
            "curl: (3) [globbing] nested brace in column 95\n",
            "  % Total    % Received % Xferd  Average Speed   Time    Time     Time  Current\n",
            "                                 Dload  Upload   Total   Spent    Left  Speed\n",
            "\r  0     0    0     0    0     0      0      0 --:--:-- --:--:-- --:--:--     0\r  0     0    0     0    0     0      0      0 --:--:-- --:--:-- --:--:--     0\r100   212  100   177  100    35    429     84 --:--:-- --:--:-- --:--:--   513\n",
            "curl: (3) [globbing] nested brace in column 95\n",
            "  % Total    % Received % Xferd  Average Speed   Time    Time     Time  Current\n",
            "                                 Dload  Upload   Total   Spent    Left  Speed\n",
            "\r  0     0    0     0    0     0      0      0 --:--:-- --:--:-- --:--:--     0\r100   213  100   177  100    36    424     86 --:--:-- --:--:-- --:--:--   510\n",
            "curl: (3) [globbing] nested brace in column 94\n",
            "  % Total    % Received % Xferd  Average Speed   Time    Time     Time  Current\n",
            "                                 Dload  Upload   Total   Spent    Left  Speed\n",
            "\r  0     0    0     0    0     0      0      0 --:--:-- --:--:-- --:--:--     0\r  0     0    0     0    0     0      0      0 --:--:-- --:--:-- --:--:--     0\r100   213  100   177  100    36    414     84 --:--:-- --:--:-- --:--:--   497\n",
            "curl: (3) [globbing] nested brace in column 94\n",
            "  % Total    % Received % Xferd  Average Speed   Time    Time     Time  Current\n",
            "                                 Dload  Upload   Total   Spent    Left  Speed\n",
            "\r  0     0    0     0    0     0      0      0 --:--:-- --:--:-- --:--:--     0\r100   213  100   177  100    36    431     87 --:--:-- --:--:-- --:--:--   519\n",
            "curl: (3) [globbing] nested brace in column 94\n",
            "  % Total    % Received % Xferd  Average Speed   Time    Time     Time  Current\n",
            "                                 Dload  Upload   Total   Spent    Left  Speed\n",
            "\r  0     0    0     0    0     0      0      0 --:--:-- --:--:-- --:--:--     0\r100   213  100   177  100    36    424     86 --:--:-- --:--:-- --:--:--   509\r100   213  100   177  100    36    423     86 --:--:-- --:--:-- --:--:--   508\n",
            "curl: (3) [globbing] nested brace in column 94\n",
            "  % Total    % Received % Xferd  Average Speed   Time    Time     Time  Current\n",
            "                                 Dload  Upload   Total   Spent    Left  Speed\n",
            "\r  0     0    0     0    0     0      0      0 --:--:-- --:--:-- --:--:--     0\r100   213  100   177  100    36    423     86 --:--:-- --:--:-- --:--:--   509\n",
            "curl: (3) [globbing] nested brace in column 94\n",
            "  % Total    % Received % Xferd  Average Speed   Time    Time     Time  Current\n",
            "                                 Dload  Upload   Total   Spent    Left  Speed\n",
            "\r  0     0    0     0    0     0      0      0 --:--:-- --:--:-- --:--:--     0\r100   213  100   177  100    36    419     85 --:--:-- --:--:-- --:--:--   504\n",
            "curl: (3) [globbing] nested brace in column 95\n",
            "  % Total    % Received % Xferd  Average Speed   Time    Time     Time  Current\n",
            "                                 Dload  Upload   Total   Spent    Left  Speed\n",
            "\r  0     0    0     0    0     0      0      0 --:--:-- --:--:-- --:--:--     0\r  0     0    0     0    0     0      0      0 --:--:-- --:--:-- --:--:--     0\r100   213  100   177  100    36    428     87 --:--:-- --:--:-- --:--:--   514\n",
            "curl: (3) [globbing] nested brace in column 95\n",
            "  % Total    % Received % Xferd  Average Speed   Time    Time     Time  Current\n",
            "                                 Dload  Upload   Total   Spent    Left  Speed\n",
            "\r  0     0    0     0    0     0      0      0 --:--:-- --:--:-- --:--:--     0\r100   213  100   177  100    36    423     86 --:--:-- --:--:-- --:--:--   509\n",
            "curl: (3) [globbing] nested brace in column 95\n",
            "  % Total    % Received % Xferd  Average Speed   Time    Time     Time  Current\n",
            "                                 Dload  Upload   Total   Spent    Left  Speed\n",
            "\r  0     0    0     0    0     0      0      0 --:--:-- --:--:-- --:--:--     0\r  0     0    0     0    0     0      0      0 --:--:-- --:--:-- --:--:--     0\r100   213  100   177  100    36    428     87 --:--:-- --:--:-- --:--:--   514\n",
            "curl: (3) [globbing] nested brace in column 95\n",
            "  % Total    % Received % Xferd  Average Speed   Time    Time     Time  Current\n",
            "                                 Dload  Upload   Total   Spent    Left  Speed\n",
            "\r  0     0    0     0    0     0      0      0 --:--:-- --:--:-- --:--:--     0\r100   213  100   177  100    36    421     85 --:--:-- --:--:-- --:--:--   507\n",
            "curl: (3) [globbing] nested brace in column 95\n",
            "  % Total    % Received % Xferd  Average Speed   Time    Time     Time  Current\n",
            "                                 Dload  Upload   Total   Spent    Left  Speed\n",
            "\r  0     0    0     0    0     0      0      0 --:--:-- --:--:-- --:--:--     0\r100    36    0     0  100    36      0     87 --:--:-- --:--:-- --:--:--    87\r100   213  100   177  100    36    426     86 --:--:-- --:--:-- --:--:--   512\n",
            "curl: (3) [globbing] nested brace in column 95\n",
            "  % Total    % Received % Xferd  Average Speed   Time    Time     Time  Current\n",
            "                                 Dload  Upload   Total   Spent    Left  Speed\n",
            "\r  0     0    0     0    0     0      0      0 --:--:-- --:--:-- --:--:--     0\r100   213  100   177  100    36    426     86 --:--:-- --:--:-- --:--:--   513\n",
            "curl: (3) [globbing] nested brace in column 95\n",
            "  % Total    % Received % Xferd  Average Speed   Time    Time     Time  Current\n",
            "                                 Dload  Upload   Total   Spent    Left  Speed\n",
            "\r  0     0    0     0    0     0      0      0 --:--:-- --:--:-- --:--:--     0\r100   213  100   177  100    36    429     87 --:--:-- --:--:-- --:--:--   516\n",
            "curl: (3) [globbing] nested brace in column 94\n",
            "  % Total    % Received % Xferd  Average Speed   Time    Time     Time  Current\n",
            "                                 Dload  Upload   Total   Spent    Left  Speed\n",
            "\r  0     0    0     0    0     0      0      0 --:--:-- --:--:-- --:--:--     0\r  0     0    0     0    0     0      0      0 --:--:-- --:--:-- --:--:--     0\r100   213  100   177  100    36    426     86 --:--:-- --:--:-- --:--:--   512\n",
            "curl: (3) [globbing] nested brace in column 94\n",
            "  % Total    % Received % Xferd  Average Speed   Time    Time     Time  Current\n",
            "                                 Dload  Upload   Total   Spent    Left  Speed\n",
            "\r  0     0    0     0    0     0      0      0 --:--:-- --:--:-- --:--:--     0\r100   213  100   177  100    36    419     85 --:--:-- --:--:-- --:--:--   504\n",
            "curl: (3) [globbing] nested brace in column 94\n",
            "  % Total    % Received % Xferd  Average Speed   Time    Time     Time  Current\n",
            "                                 Dload  Upload   Total   Spent    Left  Speed\n",
            "\r  0     0    0     0    0     0      0      0 --:--:-- --:--:-- --:--:--     0\r  0     0    0     0    0     0      0      0 --:--:-- --:--:-- --:--:--     0\r100   213  100   177  100    36    428     87 --:--:-- --:--:-- --:--:--   514\n",
            "curl: (3) [globbing] nested brace in column 94\n",
            "  % Total    % Received % Xferd  Average Speed   Time    Time     Time  Current\n",
            "                                 Dload  Upload   Total   Spent    Left  Speed\n",
            "\r  0     0    0     0    0     0      0      0 --:--:-- --:--:-- --:--:--     0\r100   213  100   177  100    36    420     85 --:--:-- --:--:-- --:--:--   505\n",
            "curl: (3) [globbing] nested brace in column 94\n",
            "  % Total    % Received % Xferd  Average Speed   Time    Time     Time  Current\n",
            "                                 Dload  Upload   Total   Spent    Left  Speed\n",
            "\r  0     0    0     0    0     0      0      0 --:--:-- --:--:-- --:--:--     0\r100    36    0     0  100    36      0     86 --:--:-- --:--:-- --:--:--    86\r100   213  100   177  100    36    422     85 --:--:-- --:--:-- --:--:--   507\n",
            "curl: (3) [globbing] nested brace in column 95\n",
            "  % Total    % Received % Xferd  Average Speed   Time    Time     Time  Current\n",
            "                                 Dload  Upload   Total   Spent    Left  Speed\n",
            "\r  0     0    0     0    0     0      0      0 --:--:-- --:--:-- --:--:--     0\r100   213  100   177  100    36    427     86 --:--:-- --:--:-- --:--:--   514\n",
            "curl: (3) [globbing] nested brace in column 95\n",
            "  % Total    % Received % Xferd  Average Speed   Time    Time     Time  Current\n",
            "                                 Dload  Upload   Total   Spent    Left  Speed\n",
            "\r  0     0    0     0    0     0      0      0 --:--:-- --:--:-- --:--:--     0\r100   213  100   177  100    36    426     86 --:--:-- --:--:-- --:--:--   513\n",
            "curl: (3) [globbing] nested brace in column 95\n",
            "  % Total    % Received % Xferd  Average Speed   Time    Time     Time  Current\n",
            "                                 Dload  Upload   Total   Spent    Left  Speed\n",
            "\r  0     0    0     0    0     0      0      0 --:--:-- --:--:-- --:--:--     0\r  0     0    0     0    0     0      0      0 --:--:-- --:--:-- --:--:--     0\r100   213  100   177  100    36    424     86 --:--:-- --:--:-- --:--:--   509\n",
            "curl: (3) [globbing] nested brace in column 95\n",
            "  % Total    % Received % Xferd  Average Speed   Time    Time     Time  Current\n",
            "                                 Dload  Upload   Total   Spent    Left  Speed\n",
            "\r  0     0    0     0    0     0      0      0 --:--:-- --:--:-- --:--:--     0\r100   213  100   177  100    36    433     88 --:--:-- --:--:-- --:--:--   522\n",
            "curl: (3) [globbing] nested brace in column 95\n",
            "  % Total    % Received % Xferd  Average Speed   Time    Time     Time  Current\n",
            "                                 Dload  Upload   Total   Spent    Left  Speed\n",
            "\r  0     0    0     0    0     0      0      0 --:--:-- --:--:-- --:--:--     0\r  0     0    0     0    0     0      0      0 --:--:-- --:--:-- --:--:--     0\r100   213  100   177  100    36    430     87 --:--:-- --:--:-- --:--:--   516\n",
            "curl: (3) [globbing] nested brace in column 95\n",
            "  % Total    % Received % Xferd  Average Speed   Time    Time     Time  Current\n",
            "                                 Dload  Upload   Total   Spent    Left  Speed\n",
            "\r  0     0    0     0    0     0      0      0 --:--:-- --:--:-- --:--:--     0\r100   213  100   177  100    36    419     85 --:--:-- --:--:-- --:--:--   504\n",
            "curl: (3) [globbing] nested brace in column 95\n",
            "  % Total    % Received % Xferd  Average Speed   Time    Time     Time  Current\n",
            "                                 Dload  Upload   Total   Spent    Left  Speed\n",
            "\r  0     0    0     0    0     0      0      0 --:--:-- --:--:-- --:--:--     0\r100    36    0     0  100    36      0     86 --:--:-- --:--:-- --:--:--    86\r100   213  100   177  100    36    423     86 --:--:-- --:--:-- --:--:--   508\n",
            "curl: (3) [globbing] nested brace in column 94\n",
            "  % Total    % Received % Xferd  Average Speed   Time    Time     Time  Current\n",
            "                                 Dload  Upload   Total   Spent    Left  Speed\n",
            "\r  0     0    0     0    0     0      0      0 --:--:-- --:--:-- --:--:--     0\r100   213  100   177  100    36    419     85 --:--:-- --:--:-- --:--:--   504\n",
            "curl: (3) [globbing] nested brace in column 94\n",
            "  % Total    % Received % Xferd  Average Speed   Time    Time     Time  Current\n",
            "                                 Dload  Upload   Total   Spent    Left  Speed\n",
            "\r  0     0    0     0    0     0      0      0 --:--:-- --:--:-- --:--:--     0\r100   213  100   177  100    36    417     84 --:--:-- --:--:-- --:--:--   502\n",
            "curl: (3) [globbing] nested brace in column 94\n",
            "  % Total    % Received % Xferd  Average Speed   Time    Time     Time  Current\n",
            "                                 Dload  Upload   Total   Spent    Left  Speed\n",
            "\r  0     0    0     0    0     0      0      0 --:--:-- --:--:-- --:--:--     0\r  0     0    0     0    0     0      0      0 --:--:-- --:--:-- --:--:--     0\r100   213  100   177  100    36    424     86 --:--:-- --:--:-- --:--:--   509\n",
            "curl: (3) [globbing] nested brace in column 94\n",
            "  % Total    % Received % Xferd  Average Speed   Time    Time     Time  Current\n",
            "                                 Dload  Upload   Total   Spent    Left  Speed\n",
            "\r  0     0    0     0    0     0      0      0 --:--:-- --:--:-- --:--:--     0\r100   213  100   177  100    36    421     85 --:--:-- --:--:-- --:--:--   507\n",
            "curl: (3) [globbing] nested brace in column 94\n",
            "  % Total    % Received % Xferd  Average Speed   Time    Time     Time  Current\n",
            "                                 Dload  Upload   Total   Spent    Left  Speed\n",
            "\r  0     0    0     0    0     0      0      0 --:--:-- --:--:-- --:--:--     0\r  0     0    0     0    0     0      0      0 --:--:-- --:--:-- --:--:--     0\r100   213  100   177  100    36    420     85 --:--:-- --:--:-- --:--:--   504\n",
            "curl: (3) [globbing] nested brace in column 95\n",
            "  % Total    % Received % Xferd  Average Speed   Time    Time     Time  Current\n",
            "                                 Dload  Upload   Total   Spent    Left  Speed\n",
            "\r  0     0    0     0    0     0      0      0 --:--:-- --:--:-- --:--:--     0\r100   213  100   177  100    36    425     86 --:--:-- --:--:-- --:--:--   512\n",
            "curl: (3) [globbing] nested brace in column 95\n",
            "  % Total    % Received % Xferd  Average Speed   Time    Time     Time  Current\n",
            "                                 Dload  Upload   Total   Spent    Left  Speed\n",
            "\r  0     0    0     0    0     0      0      0 --:--:-- --:--:-- --:--:--     0\r100    36    0     0  100    36      0     88 --:--:-- --:--:-- --:--:--    88\r100   213  100   177  100    36    430     87 --:--:-- --:--:-- --:--:--   516\n",
            "curl: (3) [globbing] nested brace in column 95\n",
            "  % Total    % Received % Xferd  Average Speed   Time    Time     Time  Current\n",
            "                                 Dload  Upload   Total   Spent    Left  Speed\n",
            "\r  0     0    0     0    0     0      0      0 --:--:-- --:--:-- --:--:--     0\r100   213  100   177  100    36    427     86 --:--:-- --:--:-- --:--:--   515\n",
            "curl: (3) [globbing] nested brace in column 95\n",
            "  % Total    % Received % Xferd  Average Speed   Time    Time     Time  Current\n",
            "                                 Dload  Upload   Total   Spent    Left  Speed\n",
            "\r  0     0    0     0    0     0      0      0 --:--:-- --:--:-- --:--:--     0\r100   213  100   177  100    36    422     85 --:--:-- --:--:-- --:--:--   508\n",
            "curl: (3) [globbing] nested brace in column 95\n",
            "  % Total    % Received % Xferd  Average Speed   Time    Time     Time  Current\n",
            "                                 Dload  Upload   Total   Spent    Left  Speed\n",
            "\r  0     0    0     0    0     0      0      0 --:--:-- --:--:-- --:--:--     0\r  0     0    0     0    0     0      0      0 --:--:-- --:--:-- --:--:--     0\r100   213  100   177  100    36    425     86 --:--:-- --:--:-- --:--:--   510\n",
            "curl: (3) [globbing] nested brace in column 95\n",
            "  % Total    % Received % Xferd  Average Speed   Time    Time     Time  Current\n",
            "                                 Dload  Upload   Total   Spent    Left  Speed\n",
            "\r  0     0    0     0    0     0      0      0 --:--:-- --:--:-- --:--:--     0\r100   213  100   177  100    36    425     86 --:--:-- --:--:-- --:--:--   512\n",
            "curl: (3) [globbing] nested brace in column 95\n",
            "  % Total    % Received % Xferd  Average Speed   Time    Time     Time  Current\n",
            "                                 Dload  Upload   Total   Spent    Left  Speed\n",
            "\r  0     0    0     0    0     0      0      0 --:--:-- --:--:-- --:--:--     0\r  0     0    0     0    0     0      0      0 --:--:-- --:--:-- --:--:--     0\r100   213  100   177  100    36    426     86 --:--:-- --:--:-- --:--:--   512\n",
            "curl: (3) [globbing] nested brace in column 94\n",
            "  % Total    % Received % Xferd  Average Speed   Time    Time     Time  Current\n",
            "                                 Dload  Upload   Total   Spent    Left  Speed\n",
            "\r  0     0    0     0    0     0      0      0 --:--:-- --:--:-- --:--:--     0\r100   213  100   177  100    36    425     86 --:--:-- --:--:-- --:--:--   512\n",
            "curl: (3) [globbing] nested brace in column 94\n",
            "  % Total    % Received % Xferd  Average Speed   Time    Time     Time  Current\n",
            "                                 Dload  Upload   Total   Spent    Left  Speed\n",
            "\r  0     0    0     0    0     0      0      0 --:--:-- --:--:-- --:--:--     0\r100    36    0     0  100    36      0     87 --:--:-- --:--:-- --:--:--    86\r100   213  100   177  100    36    425     86 --:--:-- --:--:-- --:--:--   510\n",
            "curl: (3) [globbing] nested brace in column 94\n",
            "  % Total    % Received % Xferd  Average Speed   Time    Time     Time  Current\n",
            "                                 Dload  Upload   Total   Spent    Left  Speed\n",
            "\r  0     0    0     0    0     0      0      0 --:--:-- --:--:-- --:--:--     0\r100   213  100   177  100    36    425     86 --:--:-- --:--:-- --:--:--   512\n",
            "curl: (3) [globbing] nested brace in column 94\n",
            "  % Total    % Received % Xferd  Average Speed   Time    Time     Time  Current\n",
            "                                 Dload  Upload   Total   Spent    Left  Speed\n",
            "\r  0     0    0     0    0     0      0      0 --:--:-- --:--:-- --:--:--     0\r100   213  100   177  100    36    425     86 --:--:-- --:--:-- --:--:--   512\n",
            "curl: (3) [globbing] nested brace in column 94\n",
            "  % Total    % Received % Xferd  Average Speed   Time    Time     Time  Current\n",
            "                                 Dload  Upload   Total   Spent    Left  Speed\n",
            "\r  0     0    0     0    0     0      0      0 --:--:-- --:--:-- --:--:--     0\r  0     0    0     0    0     0      0      0 --:--:-- --:--:-- --:--:--     0\r100   213  100   177  100    36    421     85 --:--:-- --:--:-- --:--:--   505\n",
            "curl: (3) [globbing] nested brace in column 95\n",
            "  % Total    % Received % Xferd  Average Speed   Time    Time     Time  Current\n",
            "                                 Dload  Upload   Total   Spent    Left  Speed\n",
            "\r  0     0    0     0    0     0      0      0 --:--:-- --:--:-- --:--:--     0\r100   213  100   177  100    36    425     86 --:--:-- --:--:-- --:--:--   512\n",
            "curl: (3) [globbing] nested brace in column 95\n",
            "  % Total    % Received % Xferd  Average Speed   Time    Time     Time  Current\n",
            "                                 Dload  Upload   Total   Spent    Left  Speed\n",
            "\r  0     0    0     0    0     0      0      0 --:--:-- --:--:-- --:--:--     0\r  0     0    0     0    0     0      0      0 --:--:-- --:--:-- --:--:--     0\r100   213  100   177  100    36    427     86 --:--:-- --:--:-- --:--:--   513\n",
            "curl: (3) [globbing] nested brace in column 95\n",
            "  % Total    % Received % Xferd  Average Speed   Time    Time     Time  Current\n",
            "                                 Dload  Upload   Total   Spent    Left  Speed\n",
            "\r  0     0    0     0    0     0      0      0 --:--:-- --:--:-- --:--:--     0\r100   213  100   177  100    36    428     87 --:--:-- --:--:-- --:--:--   515\n",
            "curl: (3) [globbing] nested brace in column 95\n",
            "  % Total    % Received % Xferd  Average Speed   Time    Time     Time  Current\n",
            "                                 Dload  Upload   Total   Spent    Left  Speed\n",
            "\r  0     0    0     0    0     0      0      0 --:--:-- --:--:-- --:--:--     0\r100    36    0     0  100    36      0     87 --:--:-- --:--:-- --:--:--    86\r100   213  100   177  100    36    424     86 --:--:-- --:--:-- --:--:--   509\n",
            "curl: (3) [globbing] nested brace in column 95\n",
            "  % Total    % Received % Xferd  Average Speed   Time    Time     Time  Current\n",
            "                                 Dload  Upload   Total   Spent    Left  Speed\n",
            "\r  0     0    0     0    0     0      0      0 --:--:-- --:--:-- --:--:--     0\r100   213  100   177  100    36    423     86 --:--:-- --:--:-- --:--:--   509\n",
            "curl: (3) [globbing] nested brace in column 95\n",
            "  % Total    % Received % Xferd  Average Speed   Time    Time     Time  Current\n",
            "                                 Dload  Upload   Total   Spent    Left  Speed\n",
            "\r  0     0    0     0    0     0      0      0 --:--:-- --:--:-- --:--:--     0\r100   213  100   177  100    36    423     86 --:--:-- --:--:-- --:--:--   509\n",
            "curl: (3) [globbing] nested brace in column 95\n",
            "  % Total    % Received % Xferd  Average Speed   Time    Time     Time  Current\n",
            "                                 Dload  Upload   Total   Spent    Left  Speed\n",
            "\r  0     0    0     0    0     0      0      0 --:--:-- --:--:-- --:--:--     0\r  0     0    0     0    0     0      0      0 --:--:-- --:--:-- --:--:--     0\r100   213  100   177  100    36    425     86 --:--:-- --:--:-- --:--:--   512\n",
            "curl: (3) [globbing] nested brace in column 94\n",
            "  % Total    % Received % Xferd  Average Speed   Time    Time     Time  Current\n",
            "                                 Dload  Upload   Total   Spent    Left  Speed\n",
            "\r  0     0    0     0    0     0      0      0 --:--:-- --:--:-- --:--:--     0\r100   213  100   177  100    36    422     85 --:--:-- --:--:-- --:--:--   508\n",
            "curl: (3) [globbing] nested brace in column 94\n",
            "  % Total    % Received % Xferd  Average Speed   Time    Time     Time  Current\n",
            "                                 Dload  Upload   Total   Spent    Left  Speed\n",
            "\r  0     0    0     0    0     0      0      0 --:--:-- --:--:-- --:--:--     0\r  0     0    0     0    0     0      0      0 --:--:-- --:--:-- --:--:--     0\r100   213  100   177  100    36    417     84 --:--:-- --:--:-- --:--:--   501\n",
            "curl: (3) [globbing] nested brace in column 94\n",
            "  % Total    % Received % Xferd  Average Speed   Time    Time     Time  Current\n",
            "                                 Dload  Upload   Total   Spent    Left  Speed\n",
            "\r  0     0    0     0    0     0      0      0 --:--:-- --:--:-- --:--:--     0\r100   213  100   177  100    36    425     86 --:--:-- --:--:-- --:--:--   512\n",
            "curl: (3) [globbing] nested brace in column 94\n",
            "  % Total    % Received % Xferd  Average Speed   Time    Time     Time  Current\n",
            "                                 Dload  Upload   Total   Spent    Left  Speed\n",
            "\r  0     0    0     0    0     0      0      0 --:--:-- --:--:-- --:--:--     0\r100    36    0     0  100    36      0     87 --:--:-- --:--:-- --:--:--    87\r100   213  100   177  100    36    418     85 --:--:-- --:--:-- --:--:--   502\n",
            "curl: (3) [globbing] nested brace in column 94\n",
            "  % Total    % Received % Xferd  Average Speed   Time    Time     Time  Current\n",
            "                                 Dload  Upload   Total   Spent    Left  Speed\n",
            "\r  0     0    0     0    0     0      0      0 --:--:-- --:--:-- --:--:--     0\r100   213  100   177  100    36    435     88 --:--:-- --:--:-- --:--:--   524\n",
            "curl: (3) [globbing] nested brace in column 95\n",
            "  % Total    % Received % Xferd  Average Speed   Time    Time     Time  Current\n",
            "                                 Dload  Upload   Total   Spent    Left  Speed\n",
            "\r  0     0    0     0    0     0      0      0 --:--:-- --:--:-- --:--:--     0\r100   213  100   177  100    36    428     87 --:--:-- --:--:-- --:--:--   516\n",
            "curl: (3) [globbing] nested brace in column 95\n",
            "  % Total    % Received % Xferd  Average Speed   Time    Time     Time  Current\n",
            "                                 Dload  Upload   Total   Spent    Left  Speed\n",
            "\r  0     0    0     0    0     0      0      0 --:--:-- --:--:-- --:--:--     0\r  0     0    0     0    0     0      0      0 --:--:-- --:--:-- --:--:--     0\r100   213  100   177  100    36    419     85 --:--:-- --:--:-- --:--:--   503\n",
            "curl: (3) [globbing] nested brace in column 95\n",
            "  % Total    % Received % Xferd  Average Speed   Time    Time     Time  Current\n",
            "                                 Dload  Upload   Total   Spent    Left  Speed\n",
            "\r  0     0    0     0    0     0      0      0 --:--:-- --:--:-- --:--:--     0\r100   213  100   177  100    36    424     86 --:--:-- --:--:-- --:--:--   510\n",
            "curl: (3) [globbing] nested brace in column 95\n",
            "  % Total    % Received % Xferd  Average Speed   Time    Time     Time  Current\n",
            "                                 Dload  Upload   Total   Spent    Left  Speed\n",
            "\r  0     0    0     0    0     0      0      0 --:--:-- --:--:-- --:--:--     0\r  0     0    0     0    0     0      0      0 --:--:-- --:--:-- --:--:--     0\r100   213  100   177  100    36    365     74 --:--:-- --:--:-- --:--:--   440\n",
            "curl: (3) [globbing] nested brace in column 95\n",
            "  % Total    % Received % Xferd  Average Speed   Time    Time     Time  Current\n",
            "                                 Dload  Upload   Total   Spent    Left  Speed\n",
            "\r  0     0    0     0    0     0      0      0 --:--:-- --:--:-- --:--:--     0\r100   213  100   177  100    36    411     83 --:--:-- --:--:-- --:--:--   495\n",
            "curl: (3) [globbing] nested brace in column 95\n",
            "  % Total    % Received % Xferd  Average Speed   Time    Time     Time  Current\n",
            "                                 Dload  Upload   Total   Spent    Left  Speed\n",
            "\r  0     0    0     0    0     0      0      0 --:--:-- --:--:-- --:--:--     0\r  0     0    0     0    0     0      0      0 --:--:-- --:--:-- --:--:--     0\r100   213  100   177  100    36    419     85 --:--:-- --:--:-- --:--:--   503\n",
            "curl: (3) [globbing] nested brace in column 95\n",
            "  % Total    % Received % Xferd  Average Speed   Time    Time     Time  Current\n",
            "                                 Dload  Upload   Total   Spent    Left  Speed\n",
            "\r  0     0    0     0    0     0      0      0 --:--:-- --:--:-- --:--:--     0\r100   213  100   177  100    36    420     85 --:--:-- --:--:-- --:--:--   505\n",
            "curl: (3) [globbing] nested brace in column 94\n",
            "  % Total    % Received % Xferd  Average Speed   Time    Time     Time  Current\n",
            "                                 Dload  Upload   Total   Spent    Left  Speed\n",
            "\r  0     0    0     0    0     0      0      0 --:--:-- --:--:-- --:--:--     0\r100    36    0     0  100    36      0     88 --:--:-- --:--:-- --:--:--    87\r100   213  100   177  100    36    420     85 --:--:-- --:--:-- --:--:--   504\n",
            "curl: (3) [globbing] nested brace in column 94\n",
            "  % Total    % Received % Xferd  Average Speed   Time    Time     Time  Current\n",
            "                                 Dload  Upload   Total   Spent    Left  Speed\n",
            "\r  0     0    0     0    0     0      0      0 --:--:-- --:--:-- --:--:--     0\r100   213  100   177  100    36    421     85 --:--:-- --:--:-- --:--:--   507\n",
            "curl: (3) [globbing] nested brace in column 94\n",
            "  % Total    % Received % Xferd  Average Speed   Time    Time     Time  Current\n",
            "                                 Dload  Upload   Total   Spent    Left  Speed\n",
            "\r  0     0    0     0    0     0      0      0 --:--:-- --:--:-- --:--:--     0\r100   213  100   177  100    36    426     86 --:--:-- --:--:-- --:--:--   513\n",
            "curl: (3) [globbing] nested brace in column 94\n",
            "  % Total    % Received % Xferd  Average Speed   Time    Time     Time  Current\n",
            "                                 Dload  Upload   Total   Spent    Left  Speed\n",
            "\r  0     0    0     0    0     0      0      0 --:--:-- --:--:-- --:--:--     0\r  0     0    0     0    0     0      0      0 --:--:-- --:--:-- --:--:--     0\r100   213  100   177  100    36    430     87 --:--:-- --:--:-- --:--:--   516\n",
            "curl: (3) [globbing] nested brace in column 94\n",
            "  % Total    % Received % Xferd  Average Speed   Time    Time     Time  Current\n",
            "                                 Dload  Upload   Total   Spent    Left  Speed\n",
            "\r  0     0    0     0    0     0      0      0 --:--:-- --:--:-- --:--:--     0\r100   213  100   177  100    36    421     85 --:--:-- --:--:-- --:--:--   507\n",
            "curl: (3) [globbing] nested brace in column 95\n",
            "  % Total    % Received % Xferd  Average Speed   Time    Time     Time  Current\n",
            "                                 Dload  Upload   Total   Spent    Left  Speed\n",
            "\r  0     0    0     0    0     0      0      0 --:--:-- --:--:-- --:--:--     0\r  0     0    0     0    0     0      0      0 --:--:-- --:--:-- --:--:--     0\r100   213  100   177  100    36    424     86 --:--:-- --:--:-- --:--:--   509\n",
            "curl: (3) [globbing] nested brace in column 95\n",
            "  % Total    % Received % Xferd  Average Speed   Time    Time     Time  Current\n",
            "                                 Dload  Upload   Total   Spent    Left  Speed\n",
            "\r  0     0    0     0    0     0      0      0 --:--:-- --:--:-- --:--:--     0\r100   213  100   177  100    36    427     86 --:--:-- --:--:-- --:--:--   514\n",
            "curl: (3) [globbing] nested brace in column 95\n",
            "  % Total    % Received % Xferd  Average Speed   Time    Time     Time  Current\n",
            "                                 Dload  Upload   Total   Spent    Left  Speed\n",
            "\r  0     0    0     0    0     0      0      0 --:--:-- --:--:-- --:--:--     0\r100    36    0     0  100    36      0     86 --:--:-- --:--:-- --:--:--    86\r100   213  100   177  100    36    423     86 --:--:-- --:--:-- --:--:--   508\n",
            "curl: (3) [globbing] nested brace in column 95\n",
            "  % Total    % Received % Xferd  Average Speed   Time    Time     Time  Current\n",
            "                                 Dload  Upload   Total   Spent    Left  Speed\n",
            "\r  0     0    0     0    0     0      0      0 --:--:-- --:--:-- --:--:--     0\r100   213  100   177  100    36    430     87 --:--:-- --:--:-- --:--:--   518\n",
            "curl: (3) [globbing] nested brace in column 95\n",
            "  % Total    % Received % Xferd  Average Speed   Time    Time     Time  Current\n",
            "                                 Dload  Upload   Total   Spent    Left  Speed\n",
            "\r  0     0    0     0    0     0      0      0 --:--:-- --:--:-- --:--:--     0\r100   213  100   177  100    36    423     86 --:--:-- --:--:-- --:--:--   509\n",
            "curl: (3) [globbing] nested brace in column 95\n",
            "  % Total    % Received % Xferd  Average Speed   Time    Time     Time  Current\n",
            "                                 Dload  Upload   Total   Spent    Left  Speed\n",
            "\r  0     0    0     0    0     0      0      0 --:--:-- --:--:-- --:--:--     0\r  0     0    0     0    0     0      0      0 --:--:-- --:--:-- --:--:--     0\r100   213  100   177  100    36    425     86 --:--:-- --:--:-- --:--:--   510\n",
            "curl: (3) [globbing] nested brace in column 95\n"
          ]
        }
      ]
    },
    {
      "cell_type": "code",
      "source": [
        "import requests\n",
        "from requests.auth import HTTPDigestAuth\n",
        "import json\n",
        "from jsonpath_ng import jsonpath, parse\n",
        "import time\n",
        "import pandas as pd\n",
        "from pandas import read_csv\n",
        "import csv\n",
        "from datetime import datetime as pdt,timedelta, date\n",
        "import os\n",
        "import matplotlib as inline\n",
        "import datetime\n",
        "import configparser\n",
        "import sys\n",
        "import shutil\n",
        "\n",
        "\n",
        "config = configparser.ConfigParser()\n",
        "config.read('/content/CONFIG.INI')\n",
        "tenant_url =config['cumulocity']['c_url']\n",
        "user_name=config['cumulocity']['c_user']\n",
        "password=config['cumulocity']['c_pass']\n",
        "tz_zone_info='0530'\n",
        "\n",
        "deviceID=config['cumulocity']['c_device_source']\n",
        "\n",
        "#start Date\n",
        "stDate=\"2019-12-01\"\n",
        "#duration\n",
        "duration=7 \n",
        "training_start_date=''\n",
        "\n",
        "stDate=stDate+\"T00:00:00+\"+tz_zone_info\n",
        "\n",
        "START_DATE= datetime.datetime.strptime(stDate, \"%Y-%m-%dT%H:%M:%S%z\").date()\n",
        "END_DATE=START_DATE+timedelta(days=int(duration))\n",
        "\n",
        "endDate=datetime.datetime.strftime(END_DATE,\"%Y-%m-%d\")\n",
        "\n",
        "c8y_Flow=list()\n",
        "measurement_times=list()\n",
        "\n",
        "if not os.path.exists('temp'):\n",
        "    os.mkdir(\"temp\")\n",
        "\n",
        "def plot_the_predicted_values():\n",
        "    \n",
        "    from matplotlib import pyplot\n",
        "    import matplotlib \n",
        "    %matplotlib inline \n",
        "    series = read_csv('temp/input_data_for_training.csv', header=0, index_col=0, parse_dates=True, squeeze=True)\n",
        "    series.plot()\n",
        "    print('\\nPlotting the ## c8y_Flow ## Measurements of the device ## '+deviceID +' ##')\n",
        "    pyplot.show()\n",
        "\n",
        "\n",
        "def extract_measurements(responseContent):\n",
        "    jData = json.loads(responseContent)\n",
        "    jsonpath_expression = parse('$.measurements[*].c8y_Flow.F.value')\n",
        "    for match in jsonpath_expression.find(jData):\n",
        "        c8y_Flow.append(float(f'{match.value}'))\n",
        "        \n",
        "    jsonpath_expression = parse('$.measurements[*].time')\n",
        "    for match in jsonpath_expression.find(jData):\n",
        "        measurement_times.append(f'{match.value}')\n",
        "    training_start_date_expr = parse('$.measurements[0].time')\n",
        "    for match1 in training_start_date_expr.find(jData):\n",
        "        global training_start_date\n",
        "        training_start_date = str(f'{match1.value}')\n",
        "        \n",
        "def draw_measurements_train_model():\n",
        "    # Replace with the correct URL\n",
        "    URL = tenant_url+'/measurement/measurements'\n",
        "\n",
        "    PARAMS = {'dateTo':str(END_DATE)+\"T23:59:00+\"+tz_zone_info,\n",
        "             'dateFrom':str(START_DATE)+\"T00:00:00+\"+tz_zone_info,\n",
        "             'source':deviceID, \n",
        "             'withTotalPages':'true',\n",
        "             'pageSize':'2000'} \n",
        "    print('\\nCollecting ## c8y_Flow ## measurements of the device ## '+ deviceID +' ## for the duration of - '+str(START_DATE)+' and '+str(END_DATE) +' from Cumulocity')\n",
        "\n",
        "    response_content = requests.get(url = URL, params = PARAMS, auth=(user_name, password), verify=True) \n",
        "\n",
        "    # For successful API call, response code will be 200 (OK)\n",
        "    if response_content.ok:\n",
        "        jContent=json.loads(response_content.content)\n",
        "        extract_measurements(response_content.content)\n",
        "        if 'next' in jContent:\n",
        "            nextPage=jContent['next']\n",
        "            while nextPage != None and len(nextPage) != 0:\n",
        "                response_content=get_measurement_request(nextPage)\n",
        "                extract_measurements(response_content.content)\n",
        "                jsonData=json.loads(response_content.content)\n",
        "                if 'next' in jsonData:\n",
        "                    nextPage=jsonData['next']\n",
        "                else:\n",
        "                    nextPage=''\n",
        "    else:\n",
        "        response_content.raise_for_status();\n",
        "    \n",
        "    if len(c8y_Flow)==0:\n",
        "        print(\"\\nc8Y_Flow values are empty.Please follow the setup instructions before running the script.\")\n",
        "        return\n",
        "    print('\\nExtracted ## c8y_Flow ## Measurements of the device ## '+deviceID +' ##')\n",
        "    \n",
        "    datetimes = []\n",
        "    for x in measurement_times:\n",
        "        tmp_time=pdt.strptime(x.split('+')[0], \"%Y-%m-%dT%H:%M:%S.%f\")\n",
        "        datetimes.append(pd.Timestamp(tmp_time))\n",
        "    df=pd.DataFrame(data=c8y_Flow,index=pd.DatetimeIndex(datetimes))\n",
        "    df.to_csv('temp/input_data_for_training.csv')\n",
        "    plot_the_predicted_values()\n",
        "\n",
        "    \n",
        "draw_measurements_train_model()"
      ],
      "metadata": {
        "colab": {
          "base_uri": "https://localhost:8080/"
        },
        "id": "2LfopqdFmW_f",
        "outputId": "a891211c-5faa-421f-ba7f-82870ebc6f7f"
      },
      "execution_count": null,
      "outputs": [
        {
          "output_type": "stream",
          "name": "stdout",
          "text": [
            "\n",
            "Collecting ## c8y_Flow ## measurements of the device ## 5124 ## for the duration of - 2019-12-01 and 2019-12-08 from Cumulocity\n",
            "\n",
            "c8Y_Flow values are empty.Please follow the setup instructions before running the script.\n"
          ]
        }
      ]
    },
    {
      "cell_type": "code",
      "source": [
        "data={}\n",
        "time_series_data_for_training=''\n",
        "uploaded_model=''\n",
        "def prepare_time_series_data_for_training():\n",
        "    df= pd.read_csv('/content/temp/input_data_for_training.csv',index_col=0)\n",
        "    data['startDate']=training_start_date #str(START_DATE)+'T00:00:00+05:30'\n",
        "    startDate = pdt.strptime(str(START_DATE)+'T00:00:00', \"%Y-%m-%dT%H:%M:%S\")\n",
        "    datetimes = []\n",
        "    last_date_time = startDate\n",
        "    data['series'] = df.values.flatten().tolist()\n",
        "    interval={}\n",
        "    interval['timeUnit']='HOURS'\n",
        "    interval['periodLength']=2\n",
        "    data['observationInterval']=interval\n",
        "    seasonality={}\n",
        "    seasonality['timeUnit']='HOURS'\n",
        "    seasonality['periodLength']=24\n",
        "    data['seasonality']=seasonality\n",
        "    time_series_data = json.dumps(data)\n",
        "    print('\\nPreparing the Extracted Measurements as per Timeseries API specification.')\n",
        "    return time_series_data;\n",
        "\n",
        "def get_exception_msg(resp_text):\n",
        "    resp_json=json.loads(resp_text)\n",
        "    if 'error' in resp_json:\n",
        "        return resp_json['error']\n",
        "    elif 'errors' in resp_json:\n",
        "        return resp_json['errors']\n",
        "\n",
        "def train_and_generate_timeseries_model():\n",
        "    time_series_data_for_training=prepare_time_series_data_for_training()\n",
        "    print('\\nThe extracted  data is sent to Nyoka Microservice for training to get the besfit model\\n')\n",
        "    print(time_series_data_for_training)\n",
        "\n",
        "    postURL=tenant_url+\"/service/zementis/timeseries\"\n",
        "    post_resp=requests.post(url=postURL,data=time_series_data_for_training,headers = {'content-type': 'application/json'},auth=(user_name, password),verify=True)\n",
        "    if not post_resp.ok:\n",
        "        print('\\n'+str(get_exception_msg(post_resp.text)));\n",
        "        sys.exit()\n",
        "\n",
        "    resp_map=json.loads(post_resp.content) \n",
        "    global uploaded_model\n",
        "    uploaded_model = resp_map['modelName']\n",
        "\n",
        "    print('\\nThe TimeSeries Model generated by Nyoka Microservice--'+uploaded_model+'.Zementis microservice is waiting for it.')\n",
        "\n",
        "    model_uploaded_status_url= resp_map['statusUrl']\n",
        "\n",
        "    status_resp =requests.get(url=tenant_url+model_uploaded_status_url,auth=(user_name, password),verify=True)\n",
        "\n",
        "    status_resp_map = json.loads(status_resp.content)\n",
        "\n",
        "    while 'status' in status_resp_map and status_resp_map['status'] == 'IN_PROGRESS':\n",
        "        print('\\n'+uploaded_model + ' Model is not yet avaialble to Zementis Micro Service.....\\n')\n",
        "        time.sleep(50)\n",
        "        status_resp =requests.get(url=tenant_url+model_uploaded_status_url,auth=(user_name, password),verify=True)\n",
        "        status_resp_map = json.loads(status_resp.content)\n",
        "        \n",
        "    print('The ##'+uploaded_model + '## is now available for Zementis microservice') \n",
        "    \n",
        "train_and_generate_timeseries_model()"
      ],
      "metadata": {
        "colab": {
          "base_uri": "https://localhost:8080/",
          "height": 307
        },
        "id": "UiinkDt6mtyF",
        "outputId": "2473f6e5-9944-4698-da63-a03f6b2a2bf9"
      },
      "execution_count": null,
      "outputs": [
        {
          "output_type": "stream",
          "name": "stdout",
          "text": [
            "\n",
            "Preparing the Extracted Measurements as per Timeseries API specification.\n",
            "\n",
            "The extracted  data is sent to Nyoka Microservice for training to get the besfit model\n",
            "\n",
            "{\"startDate\": \"2019-12-01T00:00:00.000+05:30\", \"series\": [27.666666666666668, 27.25, 52.5, 99.75, 151.75, 179.5, 174.0, 89.5, 102.5, 120.5, 73.5, 32.75, 27.25, 28.5, 51.0, 101.25, 149.75, 176.25, 169.0, 86.0, 99.0, 130.25, 68.25, 31.75, 31.0, 32.0, 50.75, 98.75, 156.0, 174.25, 176.75, 86.75, 103.75, 123.75, 63.5, 32.25, 29.25, 30.75, 53.75, 100.5, 158.0, 178.0, 174.5, 87.0, 98.5, 127.0, 69.0, 31.5, 27.75, 30.5, 50.5, 104.5, 149.0, 176.5, 171.5, 88.0, 107.25, 128.25, 70.0, 25.75, 29.5, 28.5, 53.5, 99.25, 153.0, 176.25, 172.25, 89.75, 103.25, 132.0, 80.0, 40.75, 30.75, 28.25, 42.5, 91.75, 133.5, 162.0, 186.75, 105.0, 103.75, 122.75, 80.5, 44.0, 30.5, 30.75, 45.5, 97.5, 142.5, 165.5, 183.5, 104.5, 99.75, 123.0, 83.25, 43.25], \"observationInterval\": {\"timeUnit\": \"HOURS\", \"periodLength\": 2}, \"seasonality\": {\"timeUnit\": \"HOURS\", \"periodLength\": 24}}\n",
            "\n",
            "microservice/Not Found\n"
          ]
        },
        {
          "output_type": "error",
          "ename": "SystemExit",
          "evalue": "ignored",
          "traceback": [
            "An exception has occurred, use %tb to see the full traceback.\n",
            "\u001b[0;31mSystemExit\u001b[0m\n"
          ]
        },
        {
          "output_type": "stream",
          "name": "stderr",
          "text": [
            "/usr/local/lib/python3.7/dist-packages/IPython/core/interactiveshell.py:2890: UserWarning: To exit: use 'exit', 'quit', or Ctrl-D.\n",
            "  warn(\"To exit: use 'exit', 'quit', or Ctrl-D.\", stacklevel=1)\n"
          ]
        }
      ]
    },
    {
      "cell_type": "code",
      "source": [
        "from nyoka import skl_to_pmml, lgb_to_pmml"
      ],
      "metadata": {
        "id": "u2DUa4Wj0CFT"
      },
      "execution_count": null,
      "outputs": []
    },
    {
      "cell_type": "code",
      "source": [
        " from sklearn.pipeline import Pipeline\n",
        " from sklearn.tree import DecisionTreeClassifier\n",
        " from sklearn.preprocessing import StandardScaler\n",
        " pipeline_obj = Pipeline([\n",
        " \t\t(\"scaler\",StandardScaler()),\n",
        " \t\t(\"model\",DecisionTreeClassifier())\n",
        " ])\n"
      ],
      "metadata": {
        "id": "vTEqg72S0SCh"
      },
      "execution_count": null,
      "outputs": []
    },
    {
      "cell_type": "code",
      "source": [
        "import pandas as pd\n",
        "from statsmodels.tsa.arima_model import ARIMA\n",
        "from nyoka import StatsmodelsToPmml\n",
        "import pandas.util.testing as tm\n",
        "flow_data = pd.read_csv('/content/temp/input_data_for_training.csv', index_col=0, parse_dates = True)\n",
        "model = ARIMA(flow_data, order = (1, 2, 1))\n",
        "result = model.fit()\n",
        "StatsmodelsToPmml(result,\"water_flow_ARIMA.pmml\")"
      ],
      "metadata": {
        "colab": {
          "base_uri": "https://localhost:8080/"
        },
        "id": "Xe_N3SYG0d3K",
        "outputId": "3692393e-0f52-4e52-f8e2-c38323d6425f"
      },
      "execution_count": null,
      "outputs": [
        {
          "output_type": "stream",
          "name": "stderr",
          "text": [
            "/usr/local/lib/python3.7/dist-packages/statsmodels/tsa/base/tsa_model.py:165: ValueWarning: No frequency information was provided, so inferred frequency 2H will be used.\n",
            "  % freq, ValueWarning)\n",
            "/usr/local/lib/python3.7/dist-packages/statsmodels/tsa/base/tsa_model.py:165: ValueWarning: No frequency information was provided, so inferred frequency 2H will be used.\n",
            "  % freq, ValueWarning)\n"
          ]
        },
        {
          "output_type": "execute_result",
          "data": {
            "text/plain": [
              "<nyoka.statsmodels.statsmodels_to_pmml.StatsmodelsToPmml at 0x7f8d66fd78d0>"
            ]
          },
          "metadata": {},
          "execution_count": 24
        }
      ]
    },
    {
      "cell_type": "code",
      "source": [
        ""
      ],
      "metadata": {
        "id": "dzGknhJeIXEV"
      },
      "execution_count": null,
      "outputs": []
    },
    {
      "cell_type": "code",
      "source": [
        "pip install sklearn.dataset"
      ],
      "metadata": {
        "colab": {
          "base_uri": "https://localhost:8080/"
        },
        "id": "ddv9eYNd1Xky",
        "outputId": "3df68687-5211-47dc-d91f-a295582bc67a"
      },
      "execution_count": null,
      "outputs": [
        {
          "output_type": "stream",
          "name": "stdout",
          "text": [
            "Looking in indexes: https://pypi.org/simple, https://us-python.pkg.dev/colab-wheels/public/simple/\n",
            "\u001b[31mERROR: Could not find a version that satisfies the requirement sklearn.dataset (from versions: none)\u001b[0m\n",
            "\u001b[31mERROR: No matching distribution found for sklearn.dataset\u001b[0m\n"
          ]
        }
      ]
    },
    {
      "cell_type": "code",
      "source": [
        ""
      ],
      "metadata": {
        "id": "0UcfQakc1b6p"
      },
      "execution_count": null,
      "outputs": []
    },
    {
      "cell_type": "code",
      "source": [
        "import numpy as nm  \n",
        "import matplotlib.pyplot as mtp  \n",
        "import pandas as pd  \n",
        "  \n",
        "#importing datasets  \n",
        "data_set= pd.read_csv('/content/temp/input_data_for_training.csv')  \n",
        "  \n",
        "#Extracting Independent and dependent Variable  \n",
        "x= data_set.iloc[:, [1,1]].values  \n",
        "y= data_set.iloc[:, 1].values  \n",
        "  \n",
        "# Splitting the dataset into training and test set.  \n",
        "from sklearn.model_selection import train_test_split  \n",
        "x_train, x_test, y_train, y_test= train_test_split(x, y, test_size= 0.25, random_state=0)  \n",
        "  \n",
        "#feature Scaling  \n",
        "from sklearn.preprocessing import StandardScaler    \n",
        "st_x= StandardScaler()    \n",
        "x_train= st_x.fit_transform(x_train)    \n",
        "x_test= st_x.transform(x_test)  \n"
      ],
      "metadata": {
        "colab": {
          "base_uri": "https://localhost:8080/",
          "height": 346
        },
        "id": "Jh7ZoG5OIXNu",
        "outputId": "b387531c-388e-47be-bc01-3fbae94fe4aa"
      },
      "execution_count": null,
      "outputs": [
        {
          "output_type": "error",
          "ename": "ValueError",
          "evalue": "ignored",
          "traceback": [
            "\u001b[0;31m---------------------------------------------------------------------------\u001b[0m",
            "\u001b[0;31mValueError\u001b[0m                                Traceback (most recent call last)",
            "\u001b[0;32m<ipython-input-36-51dd8dd1d4a0>\u001b[0m in \u001b[0;36m<module>\u001b[0;34m()\u001b[0m\n\u001b[1;32m     22\u001b[0m \u001b[0;32mfrom\u001b[0m \u001b[0msklearn\u001b[0m\u001b[0;34m.\u001b[0m\u001b[0mensemble\u001b[0m \u001b[0;32mimport\u001b[0m \u001b[0mRandomForestClassifier\u001b[0m\u001b[0;34m\u001b[0m\u001b[0;34m\u001b[0m\u001b[0m\n\u001b[1;32m     23\u001b[0m \u001b[0mclassifier\u001b[0m\u001b[0;34m=\u001b[0m \u001b[0mRandomForestClassifier\u001b[0m\u001b[0;34m(\u001b[0m\u001b[0mn_estimators\u001b[0m\u001b[0;34m=\u001b[0m \u001b[0;36m5\u001b[0m\u001b[0;34m)\u001b[0m\u001b[0;34m\u001b[0m\u001b[0;34m\u001b[0m\u001b[0m\n\u001b[0;32m---> 24\u001b[0;31m \u001b[0mclassifier\u001b[0m\u001b[0;34m.\u001b[0m\u001b[0mfit\u001b[0m\u001b[0;34m(\u001b[0m\u001b[0mx_train\u001b[0m\u001b[0;34m,\u001b[0m \u001b[0my_train\u001b[0m\u001b[0;34m)\u001b[0m\u001b[0;34m\u001b[0m\u001b[0;34m\u001b[0m\u001b[0m\n\u001b[0m",
            "\u001b[0;32m/usr/local/lib/python3.7/dist-packages/sklearn/ensemble/_forest.py\u001b[0m in \u001b[0;36mfit\u001b[0;34m(self, X, y, sample_weight)\u001b[0m\n\u001b[1;32m    365\u001b[0m         \u001b[0mself\u001b[0m\u001b[0;34m.\u001b[0m\u001b[0mn_outputs_\u001b[0m \u001b[0;34m=\u001b[0m \u001b[0my\u001b[0m\u001b[0;34m.\u001b[0m\u001b[0mshape\u001b[0m\u001b[0;34m[\u001b[0m\u001b[0;36m1\u001b[0m\u001b[0;34m]\u001b[0m\u001b[0;34m\u001b[0m\u001b[0;34m\u001b[0m\u001b[0m\n\u001b[1;32m    366\u001b[0m \u001b[0;34m\u001b[0m\u001b[0m\n\u001b[0;32m--> 367\u001b[0;31m         \u001b[0my\u001b[0m\u001b[0;34m,\u001b[0m \u001b[0mexpanded_class_weight\u001b[0m \u001b[0;34m=\u001b[0m \u001b[0mself\u001b[0m\u001b[0;34m.\u001b[0m\u001b[0m_validate_y_class_weight\u001b[0m\u001b[0;34m(\u001b[0m\u001b[0my\u001b[0m\u001b[0;34m)\u001b[0m\u001b[0;34m\u001b[0m\u001b[0;34m\u001b[0m\u001b[0m\n\u001b[0m\u001b[1;32m    368\u001b[0m \u001b[0;34m\u001b[0m\u001b[0m\n\u001b[1;32m    369\u001b[0m         \u001b[0;32mif\u001b[0m \u001b[0mgetattr\u001b[0m\u001b[0;34m(\u001b[0m\u001b[0my\u001b[0m\u001b[0;34m,\u001b[0m \u001b[0;34m\"dtype\"\u001b[0m\u001b[0;34m,\u001b[0m \u001b[0;32mNone\u001b[0m\u001b[0;34m)\u001b[0m \u001b[0;34m!=\u001b[0m \u001b[0mDOUBLE\u001b[0m \u001b[0;32mor\u001b[0m \u001b[0;32mnot\u001b[0m \u001b[0my\u001b[0m\u001b[0;34m.\u001b[0m\u001b[0mflags\u001b[0m\u001b[0;34m.\u001b[0m\u001b[0mcontiguous\u001b[0m\u001b[0;34m:\u001b[0m\u001b[0;34m\u001b[0m\u001b[0;34m\u001b[0m\u001b[0m\n",
            "\u001b[0;32m/usr/local/lib/python3.7/dist-packages/sklearn/ensemble/_forest.py\u001b[0m in \u001b[0;36m_validate_y_class_weight\u001b[0;34m(self, y)\u001b[0m\n\u001b[1;32m    732\u001b[0m \u001b[0;34m\u001b[0m\u001b[0m\n\u001b[1;32m    733\u001b[0m     \u001b[0;32mdef\u001b[0m \u001b[0m_validate_y_class_weight\u001b[0m\u001b[0;34m(\u001b[0m\u001b[0mself\u001b[0m\u001b[0;34m,\u001b[0m \u001b[0my\u001b[0m\u001b[0;34m)\u001b[0m\u001b[0;34m:\u001b[0m\u001b[0;34m\u001b[0m\u001b[0;34m\u001b[0m\u001b[0m\n\u001b[0;32m--> 734\u001b[0;31m         \u001b[0mcheck_classification_targets\u001b[0m\u001b[0;34m(\u001b[0m\u001b[0my\u001b[0m\u001b[0;34m)\u001b[0m\u001b[0;34m\u001b[0m\u001b[0;34m\u001b[0m\u001b[0m\n\u001b[0m\u001b[1;32m    735\u001b[0m \u001b[0;34m\u001b[0m\u001b[0m\n\u001b[1;32m    736\u001b[0m         \u001b[0my\u001b[0m \u001b[0;34m=\u001b[0m \u001b[0mnp\u001b[0m\u001b[0;34m.\u001b[0m\u001b[0mcopy\u001b[0m\u001b[0;34m(\u001b[0m\u001b[0my\u001b[0m\u001b[0;34m)\u001b[0m\u001b[0;34m\u001b[0m\u001b[0;34m\u001b[0m\u001b[0m\n",
            "\u001b[0;32m/usr/local/lib/python3.7/dist-packages/sklearn/utils/multiclass.py\u001b[0m in \u001b[0;36mcheck_classification_targets\u001b[0;34m(y)\u001b[0m\n\u001b[1;32m    195\u001b[0m         \u001b[0;34m\"multilabel-sequences\"\u001b[0m\u001b[0;34m,\u001b[0m\u001b[0;34m\u001b[0m\u001b[0;34m\u001b[0m\u001b[0m\n\u001b[1;32m    196\u001b[0m     ]:\n\u001b[0;32m--> 197\u001b[0;31m         \u001b[0;32mraise\u001b[0m \u001b[0mValueError\u001b[0m\u001b[0;34m(\u001b[0m\u001b[0;34m\"Unknown label type: %r\"\u001b[0m \u001b[0;34m%\u001b[0m \u001b[0my_type\u001b[0m\u001b[0;34m)\u001b[0m\u001b[0;34m\u001b[0m\u001b[0;34m\u001b[0m\u001b[0m\n\u001b[0m\u001b[1;32m    198\u001b[0m \u001b[0;34m\u001b[0m\u001b[0m\n\u001b[1;32m    199\u001b[0m \u001b[0;34m\u001b[0m\u001b[0m\n",
            "\u001b[0;31mValueError\u001b[0m: Unknown label type: 'continuous'"
          ]
        }
      ]
    },
    {
      "cell_type": "code",
      "source": [
        "import classifier"
      ],
      "metadata": {
        "id": "1WkYwnXUJeSW"
      },
      "execution_count": null,
      "outputs": []
    },
    {
      "cell_type": "code",
      "source": [
        " pip install classifier"
      ],
      "metadata": {
        "colab": {
          "base_uri": "https://localhost:8080/"
        },
        "id": "b9b_Oii2JJwE",
        "outputId": "294190d6-e7fe-4623-eb06-0db05ae48d5e"
      },
      "execution_count": null,
      "outputs": [
        {
          "output_type": "stream",
          "name": "stdout",
          "text": [
            "Looking in indexes: https://pypi.org/simple, https://us-python.pkg.dev/colab-wheels/public/simple/\n",
            "Collecting classifier\n",
            "  Downloading classifier-2.0.tar.gz (4.3 kB)\n",
            "Collecting arrow\n",
            "  Downloading arrow-1.2.2-py3-none-any.whl (64 kB)\n",
            "\u001b[K     |████████████████████████████████| 64 kB 2.4 MB/s \n",
            "\u001b[?25hRequirement already satisfied: typing-extensions in /usr/local/lib/python3.7/dist-packages (from arrow->classifier) (4.1.1)\n",
            "Requirement already satisfied: python-dateutil>=2.7.0 in /usr/local/lib/python3.7/dist-packages (from arrow->classifier) (2.8.2)\n",
            "Requirement already satisfied: six>=1.5 in /usr/local/lib/python3.7/dist-packages (from python-dateutil>=2.7.0->arrow->classifier) (1.15.0)\n",
            "Building wheels for collected packages: classifier\n",
            "  Building wheel for classifier (setup.py) ... \u001b[?25l\u001b[?25hdone\n",
            "  Created wheel for classifier: filename=classifier-2.0-py3-none-any.whl size=5055 sha256=983de6a14a30b7eae35371a619d218663ad281e2720306be90e3ecef05a4414e\n",
            "  Stored in directory: /root/.cache/pip/wheels/87/ea/b6/d1ee201ef021c46f0ae8f1d29bf6e6d039807dfa521a092d5d\n",
            "Successfully built classifier\n",
            "Installing collected packages: arrow, classifier\n",
            "Successfully installed arrow-1.2.2 classifier-2.0\n"
          ]
        }
      ]
    },
    {
      "cell_type": "code",
      "source": [
        ""
      ],
      "metadata": {
        "id": "052sznMXMMOl"
      },
      "execution_count": null,
      "outputs": []
    }
  ]
}